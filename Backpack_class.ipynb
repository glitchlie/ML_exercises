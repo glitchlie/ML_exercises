{
 "cells": [
  {
   "cell_type": "markdown",
   "metadata": {},
   "source": [
    "# Задачи о рюкзаке"
   ]
  },
  {
   "cell_type": "markdown",
   "metadata": {},
   "source": [
    "1. В рюкзак объема 7 кладут три группы предметов. Объем и вес каждого предмета указан в таблице: \n",
    "\n",
    "| № группы | 1 | 2 | 3 |\n",
    "| --- | --- | --- | --- |\n",
    "| Объем | 2 | 3 | 1 |\n",
    "| Вес | 1 | 4 | 1 |\n",
    "\n",
    "Максимизировать общий вес рюкзака"
   ]
  },
  {
   "cell_type": "markdown",
   "metadata": {},
   "source": [
    "Задача будет решаться при помощи генетического алгоритма. Будем случайно генерировать вектора-родители, скрещивать их, с некоторой вероятностью вызывать мутацию и отбирать лучшие из дочерних векторов для того, чтобы они создавали следующее поколение."
   ]
  },
  {
   "cell_type": "code",
   "execution_count": 3,
   "metadata": {},
   "outputs": [],
   "source": [
    "import numpy as np\n",
    "import random\n",
    "import pandas as pd\n",
    "\n",
    "class Backpack_solver: #Создаем класс, который будет содержать в себе методы генетического алгоритма\n",
    "    def __init__(self, maximum_children, start_number_of_parents, table_volumes_weights, backpack_volume, breeding_coef):\n",
    "        self.maximum_children = maximum_children\n",
    "        self.start_number_of_parents = start_number_of_parents\n",
    "        self.constraint = backpack_volume\n",
    "        self.maximum_parent = backpack_volume / np.min(table_volumes_weights[0])\n",
    "        self.breeding_coef = breeding_coef\n",
    "        self.volumes_coefs = table_volumes_weights[0]\n",
    "        self.weights_coefs = table_volumes_weights[1]\n",
    "        \n",
    "\n",
    "    def Backpack(self, items): #Функция которая возвращает вес и объём рюкзака\n",
    "        x, y, z = items[0], items[1], items[2]\n",
    "        a_v, b_v, c_v = self.volumes_coefs[0], self.volumes_coefs[1], self.volumes_coefs[2]\n",
    "        a_w, b_w, c_w = self.weights_coefs[0], self.weights_coefs[1], self.weights_coefs[2]\n",
    "        weight = a_w*x + b_w*y + c_w*z\n",
    "        volume = a_v*x + b_v*y + c_v*z\n",
    "        return(weight, volume)\n",
    "\n",
    "    def Generator(self): #Функция которая возвращает список из \"родителей\"\n",
    "        parents = list()\n",
    "        for i in range(self.start_number_of_parents):\n",
    "            parent = np.random.randint(low=0, high=self.maximum_parent, size=3)\n",
    "            weight, volume = self.Backpack(parent)\n",
    "            while volume > self.constraint:\n",
    "                parent = np.random.randint(low=0, high=self.maximum_parent, size=3)\n",
    "                weight, volume = self.Backpack(parent)\n",
    "            parents.append(parent)\n",
    "        return(parents)\n",
    "    \n",
    "    def Breeding(self, first_parent, second_parent): #Функция \"размножения\"\n",
    "        def Crossover(first_parent, second_parent): #Функция-кроссовер для смешивания генов\n",
    "            children = list()\n",
    "            cross_slice = [1, 2]\n",
    "            for elem in cross_slice:\n",
    "                child1, child2 = np.append(first_parent[:elem], second_parent[elem:]), np.append(second_parent[:elem], first_parent[elem:])\n",
    "                children.append(child1)\n",
    "                children.append(child2)\n",
    "            return(children)\n",
    "        \n",
    "        def Mutation(children): #Функция мутации одного из генов\n",
    "            mutate_state = np.random.randint(low=0, high=2) #Мутация может произойти, а может и не произойти\n",
    "            if mutate_state == 1: \n",
    "                i = np.random.randint(low=0, high=len(children))\n",
    "                mut_ind = np.random.randint(low=0, high=len(children[i]))\n",
    "                children[i][mut_ind] = children[i][mut_ind] + np.random.randint(low=0, high=3)\n",
    "            return(children)\n",
    "\n",
    "        def Selection(children): # Функция отбора дочерних векторов. Отбираются лишь те, которые удовлетворяют ограничению и самые \"сильные\" из оставшихся\n",
    "            selected_children = list()\n",
    "            for i in range(len(children)):\n",
    "                weight, volume = self.Backpack(children[i])\n",
    "                if volume <= self.constraint:\n",
    "                    selected_children.append(children[i])   \n",
    "            return(selected_children)\n",
    "\n",
    "        #children = Selection(Mutation(Crossover(first_parent, second_parent)))\n",
    "        children = Crossover(first_parent, second_parent)\n",
    "        children = Mutation(children)\n",
    "        children = Selection(children)\n",
    "\n",
    "        childrens_selected = list()\n",
    "        if len(children) >= self.maximum_children:\n",
    "            for ch in range(self.maximum_children):\n",
    "                max_weight = 0\n",
    "                max_ind = 0\n",
    "                for i in range(len(children)):\n",
    "                    weight, volume = self.Backpack(children[i])\n",
    "                    if weight > max_weight:\n",
    "                        max_weight = weight\n",
    "                        max_ind = i\n",
    "                childrens_selected.append(children[max_ind])\n",
    "                del children[max_ind]\n",
    "\n",
    "        return(childrens_selected)\n",
    "    \n",
    "    def Evolution(self, parents): #Функция одного эволюционного цикла\n",
    "        children = list()\n",
    "        for epoch in range(int(len(parents) * self.breeding_coef)): # breeding_coef определяет, сколько процентов родителей будет давать потомство\n",
    "            parent1, parent2 = random.choice(parents), random.choice(parents) # Родители выбираются случайным образом\n",
    "            children.append(self.Breeding(parent1, parent2))\n",
    "        return([item for sublist in children for item in sublist])"
   ]
  },
  {
   "cell_type": "code",
   "execution_count": 4,
   "metadata": {
    "scrolled": true
   },
   "outputs": [
    {
     "ename": "NameError",
     "evalue": "name 'table' is not defined",
     "output_type": "error",
     "traceback": [
      "\u001b[0;31m---------------------------------------------------------------------------\u001b[0m",
      "\u001b[0;31mNameError\u001b[0m                                 Traceback (most recent call last)",
      "\u001b[0;32m<ipython-input-4-7073d5da839e>\u001b[0m in \u001b[0;36m<module>\u001b[0;34m\u001b[0m\n\u001b[0;32m----> 1\u001b[0;31m \u001b[0malg\u001b[0m \u001b[0;34m=\u001b[0m \u001b[0mBackpack_solver\u001b[0m\u001b[0;34m(\u001b[0m\u001b[0;36m2\u001b[0m\u001b[0;34m,\u001b[0m \u001b[0;36m35\u001b[0m\u001b[0;34m,\u001b[0m \u001b[0mtable\u001b[0m\u001b[0;34m,\u001b[0m \u001b[0;36m7\u001b[0m\u001b[0;34m,\u001b[0m \u001b[0;36m0.5\u001b[0m\u001b[0;34m)\u001b[0m \u001b[0;31m#Создаем экземпляр класса со следующими параметрами:\u001b[0m\u001b[0;34m\u001b[0m\u001b[0;34m\u001b[0m\u001b[0m\n\u001b[0m\u001b[1;32m      2\u001b[0m                                             \u001b[0;31m#макс.потомков - 2, нач.кол-во родителей - 35\u001b[0m\u001b[0;34m\u001b[0m\u001b[0;34m\u001b[0m\u001b[0;34m\u001b[0m\u001b[0m\n\u001b[1;32m      3\u001b[0m                                             \u001b[0;31m#table - условие задачи, огранич. на объём - 7\u001b[0m\u001b[0;34m\u001b[0m\u001b[0;34m\u001b[0m\u001b[0;34m\u001b[0m\u001b[0m\n\u001b[1;32m      4\u001b[0m                                             \u001b[0;31m#коэфф.размножения - 0.5\u001b[0m\u001b[0;34m\u001b[0m\u001b[0;34m\u001b[0m\u001b[0;34m\u001b[0m\u001b[0m\n\u001b[1;32m      5\u001b[0m \u001b[0;34m\u001b[0m\u001b[0m\n",
      "\u001b[0;31mNameError\u001b[0m: name 'table' is not defined"
     ]
    }
   ],
   "source": [
    "alg = Backpack_solver(2, 35, table, 7, 0.5) #Создаем экземпляр класса со следующими параметрами:\n",
    "                                            #макс.потомков - 2, нач.кол-во родителей - 35\n",
    "                                            #table - условие задачи, огранич. на объём - 7\n",
    "                                            #коэфф.размножения - 0.5\n",
    "\n",
    "evo_num = 60 #Количество эволюций\n",
    "evo_epochs = 40 #Количество эволюционных эпох\n",
    "\n",
    "keys = ['evolution', 'evolution_epoch', 'number_of_parents', 'number_of_children', 'best_child_weight', 'mean_children']\n",
    "results = {key: [] for key in keys}"
   ]
  },
  {
   "cell_type": "markdown",
   "metadata": {},
   "source": [
    "Для того, чтобы отслеживать деятельность модели, введем несколько показателей качества. Для каждой эпохи будем считать вес наилучшего потомка, а также средний вес по всем потомкам.\n",
    "Для гарантированного результата запустим несколько эволюций с разными первыми поколениями."
   ]
  },
  {
   "cell_type": "code",
   "execution_count": 185,
   "metadata": {
    "scrolled": false
   },
   "outputs": [
    {
     "name": "stdout",
     "output_type": "stream",
     "text": [
      "Лучшее решение - [0 2 1], его вес - 9\n"
     ]
    }
   ],
   "source": [
    "solution_weigth = 0\n",
    "\n",
    "for evo in range(evo_num):\n",
    "    parents = alg.Generator() #Генерируем начальное поколение\n",
    "    for epoch in range(evo_epochs):\n",
    "        best_child_weight = 0\n",
    "        sum_weights = 0\n",
    "        children = alg.Evolution(parents)\n",
    "        for child in children:\n",
    "            weight, volume = alg.Backpack(child)\n",
    "            sum_weights += weight\n",
    "            if weight > best_child_weight:\n",
    "                best_child_weight = weight\n",
    "                best_child = child\n",
    "        results['evolution'].append(evo)\n",
    "        results['evolution_epoch'].append(epoch)\n",
    "        results['number_of_parents'].append(len(parents))\n",
    "        results['number_of_children'].append(len(children))\n",
    "        results['best_child_weight'].append(best_child_weight)\n",
    "        results['mean_children'].append(sum_weights/len(children))\n",
    "        if best_child_weight > solution_weigth:\n",
    "            solution_weigth = best_child_weight\n",
    "            solution = best_child\n",
    "        parents = children\n",
    "    \n",
    "results = pd.DataFrame(results)\n",
    "print('Лучшее решение - ' + str(solution) + ', его вес - ' + str(solution_weigth))"
   ]
  },
  {
   "cell_type": "markdown",
   "metadata": {},
   "source": [
    "Можно посмотреть на результаты работы алгоритма. Интересно будет взглянуть на то, как изменялось среднее значение веса для всех потомков(оно показывает, как точки сходятся в максимум).\n",
    "Для первой эволюции например:"
   ]
  },
  {
   "cell_type": "code",
   "execution_count": 192,
   "metadata": {
    "scrolled": true
   },
   "outputs": [
    {
     "data": {
      "text/plain": [
       "<matplotlib.axes._subplots.AxesSubplot at 0x7f353d6628d0>"
      ]
     },
     "execution_count": 192,
     "metadata": {},
     "output_type": "execute_result"
    },
    {
     "data": {
      "image/png": "[encoded data removed]",
      "text/plain": [
       "<Figure size 432x288 with 1 Axes>"
      ]
     },
     "metadata": {
      "needs_background": "light"
     },
     "output_type": "display_data"
    }
   ],
   "source": [
    "results[results.evolution == 0].mean_children.plot()"
   ]
  },
  {
   "cell_type": "markdown",
   "metadata": {},
   "source": [
    "Нулевая эволюция сошлась в значении 7."
   ]
  },
  {
   "cell_type": "code",
   "execution_count": 194,
   "metadata": {
    "scrolled": true
   },
   "outputs": [
    {
     "data": {
      "text/plain": [
       "<matplotlib.axes._subplots.AxesSubplot at 0x7f353bf9ca90>"
      ]
     },
     "execution_count": 194,
     "metadata": {},
     "output_type": "execute_result"
    },
    {
     "data": {
      "image/png": "[encoded data removed]",
      "text/plain": [
       "<Figure size 432x288 with 1 Axes>"
      ]
     },
     "metadata": {
      "needs_background": "light"
     },
     "output_type": "display_data"
    }
   ],
   "source": [
    "results[results.evolution == 6].mean_children.plot()"
   ]
  },
  {
   "cell_type": "markdown",
   "metadata": {},
   "source": [
    "Шестая показывает результаты получше."
   ]
  },
  {
   "cell_type": "code",
   "execution_count": 196,
   "metadata": {
    "scrolled": true
   },
   "outputs": [
    {
     "data": {
      "text/plain": [
       "<matplotlib.axes._subplots.AxesSubplot at 0x7f353bd40b00>"
      ]
     },
     "execution_count": 196,
     "metadata": {},
     "output_type": "execute_result"
    },
    {
     "data": {
      "image/png": "[encoded data removed]",
      "text/plain": [
       "<Figure size 432x288 with 1 Axes>"
      ]
     },
     "metadata": {
      "needs_background": "light"
     },
     "output_type": "display_data"
    }
   ],
   "source": [
    "results[results.evolution == 9].mean_children.plot()"
   ]
  },
  {
   "cell_type": "markdown",
   "metadata": {},
   "source": [
    "Девятая дала нам лучший результат.\n",
    "Итак, ответ к первой задаче - 0, 2, 1, при этом вес рюкзака - 9."
   ]
  },
  {
   "cell_type": "markdown",
   "metadata": {},
   "source": [
    "2. В рюкзак объема 10 кладут три группы предметов. Объем и вес каждого предмета указан в таблице: \n",
    "\n",
    "| № группы | 1 | 2 | 3 |\n",
    "| --- | --- | --- | --- |\n",
    "| Объем | 3 | 2 | 1 |\n",
    "| Вес | 1 | 3 | 2 |\n",
    "\n",
    "Максимизировать общий вес рюкзака"
   ]
  },
  {
   "cell_type": "code",
   "execution_count": 5,
   "metadata": {},
   "outputs": [
    {
     "name": "stdout",
     "output_type": "stream",
     "text": [
      "Лучшее решение - [ 0  0 10], его вес - 20\n"
     ]
    }
   ],
   "source": [
    "table = np.array([[3, 2, 1], [1, 3, 2]])\n",
    "\n",
    "alg = Backpack_solver(2, 35, table, 10, 0.5)\n",
    "\n",
    "evo_num = 60 #Количество эволюций\n",
    "evo_epochs = 40 #Количество эволюционных эпох\n",
    "\n",
    "keys = ['evolution', 'evolution_epoch', 'number_of_parents', 'number_of_children', 'best_child_weight', 'mean_children']\n",
    "results = {key: [] for key in keys}\n",
    "\n",
    "solution_weigth = 0\n",
    "\n",
    "for evo in range(evo_num):\n",
    "    parents = alg.Generator() #Генерируем начальное поколение\n",
    "    for epoch in range(evo_epochs):\n",
    "        best_child_weight = 0\n",
    "        sum_weights = 0\n",
    "        children = alg.Evolution(parents)\n",
    "        for child in children:\n",
    "            weight, volume = alg.Backpack(child)\n",
    "            sum_weights += weight\n",
    "            if weight > best_child_weight:\n",
    "                best_child_weight = weight\n",
    "                best_child = child\n",
    "        results['evolution'].append(evo)\n",
    "        results['evolution_epoch'].append(epoch)\n",
    "        results['number_of_parents'].append(len(parents))\n",
    "        results['number_of_children'].append(len(children))\n",
    "        results['best_child_weight'].append(best_child_weight)\n",
    "        results['mean_children'].append(sum_weights/len(children))\n",
    "        if best_child_weight > solution_weigth:\n",
    "            solution_weigth = best_child_weight\n",
    "            solution = best_child\n",
    "        parents = children\n",
    "    \n",
    "results = pd.DataFrame(results)\n",
    "print('Лучшее решение - ' + str(solution) + ', его вес - ' + str(solution_weigth))"
   ]
  },
  {
   "cell_type": "markdown",
   "metadata": {},
   "source": [
    "3. В рюкзак объема 5 кладут три группы предметов. Объем и вес каждого предмета указан в таблице: \n",
    "\n",
    "| № группы | 1 | 2 | 3 |\n",
    "| --- | --- | --- | --- |\n",
    "| Объем | 2 | 3 | 1 |\n",
    "| Вес | 3 | 7 | 2 |\n",
    "\n",
    "Максимизировать общий вес рюкзака"
   ]
  },
  {
   "cell_type": "code",
   "execution_count": 204,
   "metadata": {},
   "outputs": [
    {
     "name": "stdout",
     "output_type": "stream",
     "text": [
      "Лучшее решение - [0 1 2], его вес - 11\n"
     ]
    }
   ],
   "source": [
    "table = np.array([[2, 3, 1], [3, 7, 2]])\n",
    "\n",
    "alg = Backpack_solver(2, 35, table, 5, 0.5)\n",
    "evo_num = 60 #Количество эволюций\n",
    "evo_epochs = 40 #Количество эволюционных эпох\n",
    "\n",
    "keys = ['evolution', 'evolution_epoch', 'number_of_parents', 'number_of_children', 'best_child_weight', 'mean_children']\n",
    "results = {key: [] for key in keys}\n",
    "\n",
    "solution_weigth = 0\n",
    "\n",
    "for evo in range(evo_num):\n",
    "    parents = alg.Generator() #Генерируем начальное поколение\n",
    "    for epoch in range(evo_epochs):\n",
    "        best_child_weight = 0\n",
    "        sum_weights = 0\n",
    "        children = alg.Evolution(parents)\n",
    "        for child in children:\n",
    "            weight, volume = alg.Backpack(child)\n",
    "            sum_weights += weight\n",
    "            if weight > best_child_weight:\n",
    "                best_child_weight = weight\n",
    "                best_child = child\n",
    "        results['evolution'].append(evo)\n",
    "        results['evolution_epoch'].append(epoch)\n",
    "        results['number_of_parents'].append(len(parents))\n",
    "        results['number_of_children'].append(len(children))\n",
    "        results['best_child_weight'].append(best_child_weight)\n",
    "        results['mean_children'].append(sum_weights/len(children))\n",
    "        if best_child_weight > solution_weigth:\n",
    "            solution_weigth = best_child_weight\n",
    "            solution = best_child\n",
    "        parents = children\n",
    "    \n",
    "results = pd.DataFrame(results)\n",
    "print('Лучшее решение - ' + str(solution) + ', его вес - ' + str(solution_weigth))"
   ]
  },
  {
   "cell_type": "markdown",
   "metadata": {},
   "source": [
    "4. В рюкзак объема 10 кладут три группы предметов. Объем и вес каждого предмета указан в таблице: \n",
    "\n",
    "| № группы | 1 | 2 | 3 |\n",
    "| --- | --- | --- | --- |\n",
    "| Объем | 2 | 3 | 4 |\n",
    "| Вес | 2 | 3 | 5 |\n",
    "\n",
    "Максимизировать общий вес рюкзака"
   ]
  },
  {
   "cell_type": "code",
   "execution_count": 205,
   "metadata": {},
   "outputs": [
    {
     "name": "stdout",
     "output_type": "stream",
     "text": [
      "Лучшее решение - [1 0 2], его вес - 12\n"
     ]
    }
   ],
   "source": [
    "table = np.array([[2, 3, 4], [2, 3, 5]])\n",
    "\n",
    "alg = Backpack_solver(2, 35, table, 10, 0.5) \n",
    "evo_num = 100 #Количество эволюций\n",
    "evo_epochs = 30 #Количество эволюционных эпох\n",
    "\n",
    "keys = ['evolution', 'evolution_epoch', 'number_of_parents', 'number_of_children', 'best_child_weight', 'mean_children']\n",
    "results = {key: [] for key in keys}\n",
    "\n",
    "solution_weigth = 0\n",
    "\n",
    "for evo in range(evo_num):\n",
    "    parents = alg.Generator() #Генерируем начальное поколение\n",
    "    for epoch in range(evo_epochs):\n",
    "        best_child_weight = 0\n",
    "        sum_weights = 0\n",
    "        children = alg.Evolution(parents)\n",
    "        for child in children:\n",
    "            weight, volume = alg.Backpack(child)\n",
    "            sum_weights += weight\n",
    "            if weight > best_child_weight:\n",
    "                best_child_weight = weight\n",
    "                best_child = child\n",
    "        results['evolution'].append(evo)\n",
    "        results['evolution_epoch'].append(epoch)\n",
    "        results['number_of_parents'].append(len(parents))\n",
    "        results['number_of_children'].append(len(children))\n",
    "        results['best_child_weight'].append(best_child_weight)\n",
    "        results['mean_children'].append(sum_weights/len(children))\n",
    "        if best_child_weight > solution_weigth:\n",
    "            solution_weigth = best_child_weight\n",
    "            solution = best_child\n",
    "        parents = children\n",
    "    \n",
    "results = pd.DataFrame(results)\n",
    "print('Лучшее решение - ' + str(solution) + ', его вес - ' + str(solution_weigth))"
   ]
  },
  {
   "cell_type": "code",
   "execution_count": null,
   "metadata": {},
   "outputs": [],
   "source": []
  },
  {
   "cell_type": "code",
   "execution_count": null,
   "metadata": {},
   "outputs": [],
   "source": []
  },
  {
   "cell_type": "code",
   "execution_count": null,
   "metadata": {},
   "outputs": [],
   "source": []
  },
  {
   "cell_type": "code",
   "execution_count": null,
   "metadata": {},
   "outputs": [],
   "source": []
  },
  {
   "cell_type": "markdown",
   "metadata": {},
   "source": [
    "RK:\n"
   ]
  },
  {
   "cell_type": "code",
   "execution_count": 6,
   "metadata": {},
   "outputs": [
    {
     "name": "stdout",
     "output_type": "stream",
     "text": [
      "Лучшее решение - [0 2 1], его вес - 9\n"
     ]
    }
   ],
   "source": [
    "table = np.array([[2, 3, 1], [1, 4, 1]])\n",
    "\n",
    "alg = Backpack_solver(2, 35, table, 7, 0.5)\n",
    "\n",
    "evo_num = 60 #Количество эволюций\n",
    "evo_epochs = 40 #Количество эволюционных эпох\n",
    "\n",
    "keys = ['evolution', 'evolution_epoch', 'number_of_parents', 'number_of_children', 'best_child_weight', 'mean_children']\n",
    "results = {key: [] for key in keys}\n",
    "\n",
    "solution_weigth = 0\n",
    "\n",
    "for evo in range(evo_num):\n",
    "    parents = alg.Generator() #Генерируем начальное поколение\n",
    "    for epoch in range(evo_epochs):\n",
    "        best_child_weight = 0\n",
    "        sum_weights = 0\n",
    "        children = alg.Evolution(parents)\n",
    "        for child in children:\n",
    "            weight, volume = alg.Backpack(child)\n",
    "            sum_weights += weight\n",
    "            if weight > best_child_weight:\n",
    "                best_child_weight = weight\n",
    "                best_child = child\n",
    "        results['evolution'].append(evo)\n",
    "        results['evolution_epoch'].append(epoch)\n",
    "        results['number_of_parents'].append(len(parents))\n",
    "        results['number_of_children'].append(len(children))\n",
    "        results['best_child_weight'].append(best_child_weight)\n",
    "        results['mean_children'].append(sum_weights/len(children))\n",
    "        if best_child_weight > solution_weigth:\n",
    "            solution_weigth = best_child_weight\n",
    "            solution = best_child\n",
    "        parents = children\n",
    "    \n",
    "results = pd.DataFrame(results)\n",
    "print('Лучшее решение - ' + str(solution) + ', его вес - ' + str(solution_weigth))"
   ]
  },
  {
   "cell_type": "code",
   "execution_count": null,
   "metadata": {},
   "outputs": [],
   "source": []
  }
 ],
 "metadata": {
  "kernelspec": {
   "display_name": "Python 3",
   "language": "python",
   "name": "python3"
  },
  "language_info": {
   "codemirror_mode": {
    "name": "ipython",
    "version": 3
   },
   "file_extension": ".py",
   "mimetype": "text/x-python",
   "name": "python",
   "nbconvert_exporter": "python",
   "pygments_lexer": "ipython3",
   "version": "3.6.9"
  }
 },
 "nbformat": 4,
 "nbformat_minor": 4
}
