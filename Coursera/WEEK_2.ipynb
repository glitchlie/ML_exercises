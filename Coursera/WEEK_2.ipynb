{
 "cells": [
  {
   "cell_type": "markdown",
   "metadata": {},
   "source": [
    "# Econometrics - Week 2"
   ]
  },
  {
   "cell_type": "code",
   "execution_count": 5,
   "metadata": {},
   "outputs": [],
   "source": [
    "import numpy as np\n",
    "from scipy.stats import chi2\n",
    "import seaborn as sns\n",
    "import matplotlib.pyplot as plt"
   ]
  },
  {
   "cell_type": "markdown",
   "metadata": {},
   "source": [
    "### 2.1.12. Пример. Доверительный интервал для коэффициента бета [у доски]"
   ]
  },
  {
   "cell_type": "markdown",
   "metadata": {},
   "source": [
    "Задача:\n",
    "- Построить 95% доверительный интервал для β_1"
   ]
  },
  {
   "cell_type": "markdown",
   "metadata": {},
   "source": [
    "Условия задачи:"
   ]
  },
  {
   "cell_type": "code",
   "execution_count": 6,
   "metadata": {},
   "outputs": [],
   "source": [
    "n_obs = 47                                 # Количество наблюдений, по которым оценивается модель\n",
    "β_ = np.array([59.8, 0.109, 0.115])        # Коэффиеценты оцениваемой модели\n",
    "var_β_ = np.array([[15.9, -0.257, -0.007], # Ковариационная матрица оцениваемой модели\n",
    "                   [-0.257, 0.00616, -0.00135],\n",
    "                   [-0.007, -0.00135, 0.00182]]).T"
   ]
  },
  {
   "cell_type": "markdown",
   "metadata": {},
   "source": [
    "Функция для рассчета:"
   ]
  },
  {
   "cell_type": "code",
   "execution_count": 7,
   "metadata": {},
   "outputs": [],
   "source": [
    "def conf_int_beta(b, var_b, b_ind, n_obs, level=0.95, round_fact=4):\n",
    "    # Строим t-распределение\n",
    "    degr_free = n_obs - b.shape[0]\n",
    "    t_dist = np.random.standard_t(degr_free, size=100000)\n",
    "    # Находим критические значения\n",
    "    q = level + (1 - level) / 2\n",
    "    quantile = np.quantile(t_dist, q=q)\n",
    "    # Строим график и отмечаем критические значения\n",
    "    print(\"Распределение Стьюдента:\")\n",
    "    sns.distplot(t_dist)\n",
    "    plt.plot([quantile, quantile], [0, 0.4], color=\"r\")\n",
    "    plt.plot([-quantile, -quantile], [0, 0.4], color=\"r\")\n",
    "    plt.show(block=False)\n",
    "    # Находим доверительные интервалы для коэффиецента β\n",
    "    conf_int_left = round(b[b_ind] - quantile * np.sqrt(var_b[b_ind, b_ind]), round_fact)\n",
    "    conf_int_right = round(b[b_ind] + quantile * np.sqrt(var_b[b_ind, b_ind]), round_fact)\n",
    "    \n",
    "    print(\"Доверительный интервал: [%s < b_%s < %s]\" % (conf_int_left, b_ind, conf_int_right))"
   ]
  },
  {
   "cell_type": "markdown",
   "metadata": {},
   "source": [
    "Рассчет:"
   ]
  },
  {
   "cell_type": "code",
   "execution_count": 10,
   "metadata": {},
   "outputs": [
    {
     "name": "stdout",
     "output_type": "stream",
     "text": [
      "Распределение Стьюдента:\n"
     ]
    },
    {
     "data": {
      "image/png": "[encoded data removed]",
      "text/plain": [
       "<Figure size 432x288 with 1 Axes>"
      ]
     },
     "metadata": {
      "needs_background": "light"
     },
     "output_type": "display_data"
    },
    {
     "name": "stdout",
     "output_type": "stream",
     "text": [
      "Доверительный интервал: [-0.0491 < b_1 < 0.2671]\n"
     ]
    }
   ],
   "source": [
    "conf_int_beta(β_, var_β_, 1, n_obs)"
   ]
  },
  {
   "cell_type": "markdown",
   "metadata": {},
   "source": [
    "### 2.1.13. Пример. Доверительный интервал для дисперсии [у доски]"
   ]
  },
  {
   "cell_type": "markdown",
   "metadata": {},
   "source": [
    "Задача:\n",
    "- Построить 95% доверительный интервал для σ ** 2"
   ]
  },
  {
   "cell_type": "markdown",
   "metadata": {},
   "source": [
    "Условия задачи:"
   ]
  },
  {
   "cell_type": "code",
   "execution_count": 13,
   "metadata": {},
   "outputs": [],
   "source": [
    "sigma = 11.07 # Среднеквадратическое отклонение предсказаний оцениваемой модели\n",
    "n_obs = 47    # Количество наблюдений, по которым оценивается модель\n",
    "k = 3         # Количество регрессоров модели"
   ]
  },
  {
   "cell_type": "markdown",
   "metadata": {},
   "source": [
    "Функция для рассчета:"
   ]
  },
  {
   "cell_type": "code",
   "execution_count": 14,
   "metadata": {},
   "outputs": [],
   "source": [
    "def conf_int_sig(sigma, k, n_obs, level=0.95, round_fact=4):\n",
    "    # Строим χ-квадрат распределение\n",
    "    df = n_obs - k\n",
    "    x = np.linspace(0, 10, 10000)\n",
    "    chi2_dist = chi2.ppf(x, df)\n",
    "    # Находим критические значения\n",
    "    q_left = level + (1 - level) / 2\n",
    "    q_right = (1 - level) / 2\n",
    "    chi2_crit_left, chi2_crit_right = chi2.ppf(q_left, df), chi2.ppf(q_right, df)\n",
    "    # Строим график и отмечаем критические значения\n",
    "    print(\"Хи-квадрат распределение:\")\n",
    "    sns.distplot(chi2_dist)  \n",
    "    plt.plot([chi2_crit_left, chi2_crit_left], [0, 0.04], color=\"r\")\n",
    "    plt.plot([chi2_crit_right, chi2_crit_right], [0, 0.04], color=\"r\")\n",
    "    plt.show(block=False)\n",
    "    # Находим доверительные интервалы для дисперсии\n",
    "    RSS = df * sigma ** 2\n",
    "    conf_int_left = round(RSS / chi2_crit_left, round_fact)\n",
    "    conf_int_right = round(RSS / chi2_crit_right, round_fact)\n",
    "    \n",
    "    print(\"Доверительный интервал: [%s < σ ** 2 < %s]\" % (conf_int_left, conf_int_right))"
   ]
  },
  {
   "cell_type": "markdown",
   "metadata": {},
   "source": [
    "Рассчет:"
   ]
  },
  {
   "cell_type": "code",
   "execution_count": 15,
   "metadata": {},
   "outputs": [
    {
     "name": "stdout",
     "output_type": "stream",
     "text": [
      "Хи-квадрат распределение:\n"
     ]
    },
    {
     "data": {
      "image/png": "[encoded data removed]",
      "text/plain": [
       "<Figure size 432x288 with 1 Axes>"
      ]
     },
     "metadata": {
      "needs_background": "light"
     },
     "output_type": "display_data"
    },
    {
     "name": "stdout",
     "output_type": "stream",
     "text": [
      "Доверительный интервал: [83.9852 < σ ** 2 < 195.5416]\n"
     ]
    }
   ],
   "source": [
    "conf_int_sig(sigma, k, n_obs)"
   ]
  },
  {
   "cell_type": "markdown",
   "metadata": {},
   "source": [
    "### 2.1.14. Пример. Проверка гипотезы о коэффициенте бета [у доски]"
   ]
  },
  {
   "cell_type": "markdown",
   "metadata": {},
   "source": [
    "Задача:\n",
    "- Проверить гипотезу: β_1 = 0, при α = 0.05"
   ]
  },
  {
   "cell_type": "markdown",
   "metadata": {},
   "source": [
    "Условия задачи:"
   ]
  },
  {
   "cell_type": "code",
   "execution_count": 16,
   "metadata": {},
   "outputs": [],
   "source": [
    "n_obs = 47                                          # Количество наблюдений, по которым оценивается модель\n",
    "β_ = np.array([59.8, 0.109, 0.115])                 # Коэффиеценты оцениваемой модели\n",
    "var_β_ = np.array([[15.9, -0.257, -0.007],          # Ковариационная матрица оцениваемой модели\n",
    "                   [-0.257, 0.00616, -0.00135], \n",
    "                   [-0.007, -0.00135, 0.00182]]).T\n",
    "β1 = 0                                              # Предполагаемое значение коэффиецента β_A"
   ]
  },
  {
   "cell_type": "markdown",
   "metadata": {},
   "source": [
    "Функция для рассчета:"
   ]
  },
  {
   "cell_type": "code",
   "execution_count": 17,
   "metadata": {},
   "outputs": [],
   "source": [
    "def check_beta(b_, b, var_b, b_ind, n_obs, level=0.95, round_fact=4):\n",
    "    # Находим значение t-статистики\n",
    "    t = (b_[b_ind] - b) / np.sqrt(var_b[b_ind, b_ind])\n",
    "    # Строим t-распределение\n",
    "    degr_free = n_obs - b_.shape[0]\n",
    "    t_dist = np.random.standard_t(degr_free, size=100000)\n",
    "    # Находим критические значения\n",
    "    q = level + (1 - level) / 2\n",
    "    quantile = round(np.quantile(t_dist, q=q), round_fact)\n",
    "    # Строим график и отмечаем критические значения\n",
    "    print(\"Распределение Стьюдента:\")\n",
    "    sns.distplot(t_dist)\n",
    "    plt.plot([quantile, quantile], [0, 0.4], color=\"r\")\n",
    "    plt.plot([-quantile, -quantile], [0, 0.4], color=\"r\")\n",
    "    plt.plot([t, t], [0, 0.4], color=\"b\")\n",
    "    plt.show(block=False)\n",
    "\n",
    "    if (t > -quantile) and (t < quantile):\n",
    "        print(\"\"\"Так как значение t-статистики (%s) попало в область ограниченную критическими значениями, то гипотеза принимается: \\n [%s < t < %s]\"\"\" % (round(t, round_fact), -quantile, quantile))\n",
    "    else:\n",
    "        print(\"\"\"Так как значение t-статистики (%s) не попало в область ограниченную критическими значениями, то гипотеза отвергается\\n\"\"\" % (round(t, round_fact)))\n",
    "    # Находим p-значение для определения вероятности ошибки при отвержении нулевой гипотезы\n",
    "    p_value_l = 1 - len(t_dist[t_dist > t])/len(t_dist)\n",
    "    p_value_r = len(t_dist[t_dist > t])/len(t_dist)\n",
    "    p_value = 2 * min(p_value_l, p_value_r)\n",
    "    print(\"p-value равно %s, то есть отвергая нулевую гипотезу, мы ошибемся с вероятностью %s процентов\" % (round(p_value, round_fact), round(p_value, 2) * 100))"
   ]
  },
  {
   "cell_type": "markdown",
   "metadata": {},
   "source": [
    "Рассчет:"
   ]
  },
  {
   "cell_type": "code",
   "execution_count": 19,
   "metadata": {},
   "outputs": [
    {
     "name": "stdout",
     "output_type": "stream",
     "text": [
      "Распределение Стьюдента:\n"
     ]
    },
    {
     "data": {
      "image/png": "[encoded data removed]",
      "text/plain": [
       "<Figure size 432x288 with 1 Axes>"
      ]
     },
     "metadata": {
      "needs_background": "light"
     },
     "output_type": "display_data"
    },
    {
     "name": "stdout",
     "output_type": "stream",
     "text": [
      "Так как значение t-статистики (1.3888) попало в область ограниченную критическими значениями, то гипотеза принимается: \n",
      " [-2.028 < t < 2.028]\n",
      "p-value равно 0.1736, то есть отвергая нулевую гипотезу, мы ошибемся с вероятностью 17.0 процентов\n"
     ]
    }
   ],
   "source": [
    "check_beta(β_, 0, var_β_, 1, 47)"
   ]
  },
  {
   "cell_type": "markdown",
   "metadata": {},
   "source": [
    "### 2.1.17. Проверка гипотезы о связи коэффициентов. Заключение [+доска]"
   ]
  },
  {
   "cell_type": "markdown",
   "metadata": {},
   "source": [
    "Задача:\n",
    "- Проверить гипотезу: β_1 - β_2 = 0, при α = 0.05"
   ]
  },
  {
   "cell_type": "markdown",
   "metadata": {},
   "source": [
    "Условия задачи:"
   ]
  },
  {
   "cell_type": "code",
   "execution_count": 21,
   "metadata": {},
   "outputs": [],
   "source": [
    "n_obs = 47                                 # Количество наблюдений, по которым оценивается модель\n",
    "β_ = np.array([59.8, 0.109, 0.115])        # Коэффиеценты оцениваемой модели\n",
    "var_β_ = np.array([[15.9, -0.257, -0.007], # Ковариационная матрица оцениваемой модели\n",
    "                   [-0.257, 0.00616, -0.00135], \n",
    "                   [-0.007, -0.00135, 0.00182]]).T"
   ]
  },
  {
   "cell_type": "markdown",
   "metadata": {},
   "source": [
    "Функция для рассчета:"
   ]
  },
  {
   "cell_type": "code",
   "execution_count": 22,
   "metadata": {},
   "outputs": [],
   "source": [
    "def check_corr(b_, var_b, b_1_ind, b_2_ind, n_obs, b_diff=0, level=0.95, round_fact=4):\n",
    "    # Находим значение t-статистики\n",
    "    t = (b_[b_1_ind] - b_[b_2_ind] - b_diff) / np.sqrt(var_b[b_1_ind, b_1_ind] + var_b[b_2_ind, b_2_ind] + var_b[b_1_ind, b_2_ind])\n",
    "    # Строим t-распределение\n",
    "    degr_free = n_obs - b_.shape[0]\n",
    "    t_dist = np.random.standard_t(degr_free, size=100000)\n",
    "    # Находим критические значения\n",
    "    q = level + (1 - level) / 2\n",
    "    quantile = round(np.quantile(t_dist, q=q), round_fact)\n",
    "    # Строим график и отмечаем критические значения\n",
    "    print(\"Распределение Стьюдента:\")\n",
    "    sns.distplot(t_dist)\n",
    "    plt.plot([quantile, quantile], [0, 0.4], color=\"r\")\n",
    "    plt.plot([-quantile, -quantile], [0, 0.4], color=\"r\")\n",
    "    plt.plot([t, t], [0, 0.4], color=\"b\")\n",
    "    plt.show(block=False)\n",
    "\n",
    "    if (t > -quantile) and (t < quantile):\n",
    "        print(\"\"\"Так как значение t-статистики (%s) попало в область ограниченную критическими значениями, то гипотеза принимается: \\n [%s < t < %s]\"\"\" % (round(t, round_fact), -quantile, quantile))\n",
    "    else:\n",
    "        print(\"\"\"Так как значение t-статистики (%s) не попало в область ограниченную критическими значениями, то гипотеза отвергается\\n\"\"\" % (round(t, round_fact)))\n",
    "    # Находим p-значение для определения вероятности ошибки при отвержении нулевой гипотезы\n",
    "    p_value_l = 1 - len(t_dist[t_dist > t])/len(t_dist)\n",
    "    p_value_r = len(t_dist[t_dist > t])/len(t_dist)\n",
    "    p_value = 2 * min(p_value_l, p_value_r)\n",
    "    print(\"p-value равно %s, то есть отвергая нулевую гипотезу, мы ошибемся с вероятностью %s процентов\" % (round(p_value, round_fact), round(p_value, 2) * 100))"
   ]
  },
  {
   "cell_type": "markdown",
   "metadata": {},
   "source": [
    "Рассчет:"
   ]
  },
  {
   "cell_type": "code",
   "execution_count": 23,
   "metadata": {},
   "outputs": [
    {
     "name": "stdout",
     "output_type": "stream",
     "text": [
      "Распределение Стьюдента:\n"
     ]
    },
    {
     "data": {
      "image/png": "[encoded data removed]",
      "text/plain": [
       "<Figure size 432x288 with 1 Axes>"
      ]
     },
     "metadata": {
      "needs_background": "light"
     },
     "output_type": "display_data"
    },
    {
     "name": "stdout",
     "output_type": "stream",
     "text": [
      "Так как значение t-статистики (-0.0737) попало в область ограниченную критическими значениями, то гипотеза принимается: \n",
      " [-2.0116 < t < 2.0116]\n",
      "p-value равно 0.9403, то есть отвергая нулевую гипотезу, мы ошибемся с вероятностью 94.0 процентов\n"
     ]
    }
   ],
   "source": [
    "check_corr(β_, var_β_, 1, 2, 47)"
   ]
  },
  {
   "cell_type": "code",
   "execution_count": null,
   "metadata": {},
   "outputs": [],
   "source": []
  }
 ],
 "metadata": {
  "kernelspec": {
   "display_name": "Python 3",
   "language": "python",
   "name": "python3"
  },
  "language_info": {
   "codemirror_mode": {
    "name": "ipython",
    "version": 3
   },
   "file_extension": ".py",
   "mimetype": "text/x-python",
   "name": "python",
   "nbconvert_exporter": "python",
   "pygments_lexer": "ipython3",
   "version": "3.6.9"
  }
 },
 "nbformat": 4,
 "nbformat_minor": 4
}
