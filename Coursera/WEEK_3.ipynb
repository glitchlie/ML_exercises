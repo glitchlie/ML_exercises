{
 "cells": [
  {
   "cell_type": "markdown",
   "metadata": {},
   "source": [
    "# Econometrics - Week 3"
   ]
  },
  {
   "cell_type": "code",
   "execution_count": 2,
   "metadata": {},
   "outputs": [],
   "source": [
    "import numpy as np\n",
    "from scipy.stats import f\n",
    "import seaborn as sns\n",
    "import matplotlib.pyplot as plt"
   ]
  },
  {
   "cell_type": "markdown",
   "metadata": {},
   "source": [
    "### 3.1.2. Пример построения интервалов для прогнозов [у доски]"
   ]
  },
  {
   "cell_type": "markdown",
   "metadata": {},
   "source": [
    "Задачи:\n",
    "- Построить прогноз цены для квартиры площадью 60 метров\n",
    "- Построить 95% доверительный интервал для неизвестной средней стоимости квартиры площадью 60 м ** 2\n",
    "- Построить 95% предиктивный интервал для фактической стоимости квартиры площадью 60 м ** 2"
   ]
  },
  {
   "cell_type": "markdown",
   "metadata": {},
   "source": [
    "Условия задачи:"
   ]
  },
  {
   "cell_type": "code",
   "execution_count": 4,
   "metadata": {},
   "outputs": [],
   "source": [
    "σ_sqr = 1154                        # Среднеквадратическое отклонение предсказаний оцениваемой модели\n",
    "n_obs = 2040                        # Количество наблюдений, по которым оценивается модель\n",
    "β_ = np.array([-62, 2.6])           # Коэффиеценты оцениваемой модели\n",
    "var_β_ = np.array([[13.78, -0.18],  # Ковариационная матрица оцениваемой модели\n",
    "                   [-0.18, 0.0025]]).T"
   ]
  },
  {
   "cell_type": "markdown",
   "metadata": {},
   "source": [
    "Функция для рассчета:"
   ]
  },
  {
   "cell_type": "code",
   "execution_count": 26,
   "metadata": {},
   "outputs": [],
   "source": [
    "def conf_int_pred(b_, var_b, area, sigma_sqr, level=0.95, round_fact=4):\n",
    "    # Находим значение цены, предсказанное моделью\n",
    "    price_ = b_[0] + b_[1] * area\n",
    "    print(\"Предсказанное значение цены: %s\" % (price_))\n",
    "    # Оценка дисперсии значения, предсказанного моделью\n",
    "    var_price = var_b[0, 0] + area ** 2 * var_b[1, 1] + 2 * area * var_b[0, 1]\n",
    "    var_pred = sigma_sqr + var_price\n",
    "    print(\"Дисперсия предсказания: %s\" % (round(var_pred, round_fact)))\n",
    "    # Строим нормальное распределение\n",
    "    norm_dist = np.random.normal(loc=0., size=10000)\n",
    "    # Находим критические значения\n",
    "    q = level + (1 - level) / 2\n",
    "    quantile = np.quantile(norm_dist, q=q)\n",
    "    # Строим график и отмечаем критические значения\n",
    "    print(\"Нормальное распределение:\")\n",
    "    sns.distplot(norm_dist)\n",
    "    plt.plot([quantile, quantile], [0, 0.4], color=\"r\")\n",
    "    plt.plot([-quantile, -quantile], [0, 0.4], color=\"r\")\n",
    "    plt.show(block=False)\n",
    "    # Находим доверительные интервалы для неизвестной средней стоимости\n",
    "    conf_int_left = round(price_ - quantile * np.sqrt(var_price), round_fact)\n",
    "    conf_int_right = round(price_ + quantile * np.sqrt(var_price), round_fact)\n",
    "    \n",
    "    print(\"Доверительный интервал для неизвестной средней стоимости: [%s < y_pred < %s]\" % (conf_int_left, conf_int_right))\n",
    "    # Находим доверительные интервалы для фактической стоимости\n",
    "    conf_int_left_pred = round(price_ - quantile * np.sqrt(var_pred), round_fact)\n",
    "    conf_int_right_pred = round(price_ + quantile * np.sqrt(var_pred), round_fact)\n",
    "    \n",
    "    print(\"Предиктивный интервал для фактической стоимости: [%s < y_pred < %s]\" % (conf_int_left_pred, conf_int_right_pred))"
   ]
  },
  {
   "cell_type": "markdown",
   "metadata": {},
   "source": [
    "Рассчет:"
   ]
  },
  {
   "cell_type": "code",
   "execution_count": 22,
   "metadata": {
    "scrolled": true
   },
   "outputs": [
    {
     "name": "stdout",
     "output_type": "stream",
     "text": [
      "Предсказанное значение цены: 94.0\n",
      "Нормальное распределение:\n"
     ]
    },
    {
     "data": {
      "image/png": "[encoded data removed]",
      "text/plain": [
       "<Figure size 432x288 with 1 Axes>"
      ]
     },
     "metadata": {
      "needs_background": "light"
     },
     "output_type": "display_data"
    },
    {
     "name": "stdout",
     "output_type": "stream",
     "text": [
      "Доверительный интервал для неизвестной средней стоимости: [91.8438 < y_pred < 96.1562]\n",
      "Предиктивный интервал для фактической стоимости: [26.535 < y_pred < 161.465]\n"
     ]
    }
   ],
   "source": [
    "conf_int_pred(β_, var_β_, 60, σ_sqr, level=0.95)"
   ]
  },
  {
   "cell_type": "markdown",
   "metadata": {},
   "source": [
    "### 3.1.6. Пример проверки гипотезы о нескольких линейных ограничениях [у доски]"
   ]
  },
  {
   "cell_type": "markdown",
   "metadata": {},
   "source": [
    "Задачи:\n",
    "- Проверить гипотезу о равенстве нулю β_5_ и β_6_, при уровне значимости 0.95"
   ]
  },
  {
   "cell_type": "markdown",
   "metadata": {},
   "source": [
    "Условия задачи:"
   ]
  },
  {
   "cell_type": "code",
   "execution_count": 15,
   "metadata": {},
   "outputs": [],
   "source": [
    "n_obs = 2040                                                     # Количество наблюдений, по которым оценивается модель\n",
    "βunr_ = np.array([-0.215, 0.83, 0.268, 0.196, 0.112, -0.01, 0.1])# Оценки коэффиецентов неограниченной модели\n",
    "RSS_1 = 62.6                                                     # Сумма квадратов остатков неограниченной модели\n",
    "βr_ = np.array([-0.261, 0.795, 0.309, 0.202, 0.13])              # Оценки коэффиецентов ограниченной модели\n",
    "RSS_2 = 69.3                                                     # Сумма квадратов остатков ограниченной модели"
   ]
  },
  {
   "cell_type": "markdown",
   "metadata": {},
   "source": [
    "Функция для рассчета:"
   ]
  },
  {
   "cell_type": "code",
   "execution_count": 15,
   "metadata": {},
   "outputs": [],
   "source": [
    "def check_betas(b_unr, b_r, RSS_unr, RSS_r, n_obs, level=0.95, round_fact=4):\n",
    "    # Находим кол-во ограничений модели\n",
    "    r = len(b_unr) - len(b_r)\n",
    "    # Находим значение F-статистики\n",
    "    F = ((RSS_r - RSS_unr)/r)/(RSS_unr/(n_obs - len(b_unr)))\n",
    "    # Строим F-распределение\n",
    "    dfn, dfd = r, n_obs - len(b_unr)\n",
    "    x = np.linspace(f.ppf(0., dfn, dfd), f.ppf(0.99, dfn, dfd), 1000)\n",
    "    F_dist = f.pdf(x, dfn, dfd)\n",
    "    # Находим критические значения\n",
    "    F_crit = f.ppf(level, dfn, dfd)\n",
    "    # Строим график и отмечаем критические значения\n",
    "    print(\"F-распределение:\")\n",
    "    sns.lineplot(x, F_dist)\n",
    "    plt.plot([F_crit, F_crit], [0, 1.], color=\"r\")\n",
    "    plt.show(block=False)\n",
    "    \n",
    "    if F > F_crit:\n",
    "        print(\"Так как наблюдаемое значение F-статистики (%s) больше чем F-критическое(%s), то нулевая гипотеза отвергается.\" % (round(F, round_fact), round(F_crit, round_fact)))\n",
    "    else:\n",
    "        plt.plot([F, F], [0, 1.], color=\"b\")\n",
    "        print(\"Так как наблюдаемое значение F-статистики (%s) меньше чем F-критическое(%s), то нулевая гипотеза принимается.\" % (round(F, round_fact), round(F_crit, round_fact)))"
   ]
  },
  {
   "cell_type": "markdown",
   "metadata": {},
   "source": [
    "Рассчет:"
   ]
  },
  {
   "cell_type": "code",
   "execution_count": 17,
   "metadata": {},
   "outputs": [
    {
     "name": "stdout",
     "output_type": "stream",
     "text": [
      "F-распределение:\n"
     ]
    },
    {
     "data": {
      "image/png": "[encoded data removed]",
      "text/plain": [
       "<Figure size 432x288 with 1 Axes>"
      ]
     },
     "metadata": {
      "needs_background": "light"
     },
     "output_type": "display_data"
    },
    {
     "name": "stdout",
     "output_type": "stream",
     "text": [
      "Так как наблюдаемое значение F-статистики (108.7947) больше чем F-критическое(3.0002), то нулевая гипотеза отвергается.\n"
     ]
    }
   ],
   "source": [
    "check_betas(βunr_, βr_, RSS_1, RSS_2, n_obs)"
   ]
  },
  {
   "cell_type": "markdown",
   "metadata": {},
   "source": [
    "### 3.1.8. Пример проверки гипотезы о незначимости регрессии [+ доска]"
   ]
  },
  {
   "cell_type": "markdown",
   "metadata": {},
   "source": [
    "Задачи:\n",
    "- Проверить гипотезу о бесполезности всех регрессоров модели, при уровне значимости 0.95"
   ]
  },
  {
   "cell_type": "markdown",
   "metadata": {},
   "source": [
    "Условия задачи:"
   ]
  },
  {
   "cell_type": "code",
   "execution_count": 18,
   "metadata": {},
   "outputs": [],
   "source": [
    "n_obs = 3294                          # Количество наблюдений, по которым оценивается модель\n",
    "βunr_ = np.array([-2.5, 0.6, 0.157])  # Оценки коэффиецентов неограниченной модели\n",
    "βr_ = np.array([-2.5])                # Оценки коэффиецентов ограниченной модели\n",
    "R2 = 0.09                             # R-квадрат неограниченной модели"
   ]
  },
  {
   "cell_type": "markdown",
   "metadata": {},
   "source": [
    "Функция для рассчета:"
   ]
  },
  {
   "cell_type": "code",
   "execution_count": 19,
   "metadata": {},
   "outputs": [],
   "source": [
    "def check_regr(b_, br_, R2, n_obs, level=0.95, round_fact=4):\n",
    "    # Находим кол-во ограничений модели\n",
    "    r = len(b_) - len(br_)\n",
    "    # Находим значение F-статистики\n",
    "    F = (R2 / r)/((1 - R2)/(n_obs - len(b_)))\n",
    "    # Строим F-распределение\n",
    "    dfn, dfd = r, n_obs - len(b_)\n",
    "    x = np.linspace(f.ppf(0., dfn, dfd), f.ppf(0.99, dfn, dfd), 1000)\n",
    "    F_dist = f.pdf(x, dfn, dfd)\n",
    "    # Находим критические значения\n",
    "    F_crit = f.ppf(level, dfn, dfd)\n",
    "    # Строим график и отмечаем критические значения\n",
    "    print(\"F-распределение:\")\n",
    "    sns.lineplot(x, F_dist)\n",
    "    plt.plot([F_crit, F_crit], [0, 1.], color=\"r\")\n",
    "    plt.show(block=False)\n",
    "    \n",
    "    if F > F_crit:\n",
    "        print(\"Так как наблюдаемое значение F-статистики (%s) больше чем F-критическое(%s), то нулевая гипотеза отвергается.\" % (round(F, round_fact), round(F_crit, round_fact)))\n",
    "    else:\n",
    "        plt.plot([F, F], [0, 1.], color=\"b\")\n",
    "        print(\"Так как наблюдаемое значение F-статистики (%s) меньше чем F-критическое(%s), то нулевая гипотеза принимается.\" % (round(F, round_fact), round(F_crit, round_fact)))"
   ]
  },
  {
   "cell_type": "markdown",
   "metadata": {},
   "source": [
    "Рассчет:"
   ]
  },
  {
   "cell_type": "code",
   "execution_count": 20,
   "metadata": {},
   "outputs": [
    {
     "name": "stdout",
     "output_type": "stream",
     "text": [
      "F-распределение:\n"
     ]
    },
    {
     "data": {
      "image/png": "[encoded data removed]",
      "text/plain": [
       "<Figure size 432x288 with 1 Axes>"
      ]
     },
     "metadata": {
      "needs_background": "light"
     },
     "output_type": "display_data"
    },
    {
     "name": "stdout",
     "output_type": "stream",
     "text": [
      "Так как наблюдаемое значение F-статистики (162.7418) больше чем F-критическое(2.9985), то нулевая гипотеза отвергается.\n"
     ]
    }
   ],
   "source": [
    "check_regr(βunr_, βr_, R2, n_obs)"
   ]
  },
  {
   "cell_type": "markdown",
   "metadata": {},
   "source": [
    "### 3.1.10. Тест Рамсея [+ доска]"
   ]
  },
  {
   "cell_type": "markdown",
   "metadata": {},
   "source": [
    "Задачи:\n",
    "- Проверить гипотезу о том, что нет пропущенных регрессоров, при уровне значимости 0.95"
   ]
  },
  {
   "cell_type": "markdown",
   "metadata": {},
   "source": [
    "Условия задачи:"
   ]
  },
  {
   "cell_type": "code",
   "execution_count": 3,
   "metadata": {},
   "outputs": [],
   "source": [
    "n_obs = 3294                                        # Количество наблюдений, по которым оценивается модель\n",
    "β_ = np.array([-2.5, 0.6, 0.16])                    # Оценки коэффиецентов модели\n",
    "R2 = 0.091                                          # R-квадрат модели\n",
    "βaux_ = np.array([-3.3, 0.95, 0.25, -0.264, 0.024]) # Оценки коэффиецентов вспомогательной модели\n",
    "R2aux = 0.095                                       # R-квадрат вспомогательной модели"
   ]
  },
  {
   "cell_type": "markdown",
   "metadata": {},
   "source": [
    "Функция для рассчета:"
   ]
  },
  {
   "cell_type": "code",
   "execution_count": 13,
   "metadata": {},
   "outputs": [],
   "source": [
    "def Ramsay_test(b_unr, b_r, R2_unr, R2_r, n_obs, level=0.95, round_fact=4):\n",
    "    # Находим кол-во ограничений модели\n",
    "    r = len(b_unr) - len(b_r)\n",
    "    # Находим значение F-статистики\n",
    "    F = ((R2_unr - R2_r)/r)/((1 - R2_unr)/(n_obs - len(b_unr)))\n",
    "    # Строим F-распределение\n",
    "    dfn, dfd = r, n_obs - len(b_unr)\n",
    "    x = np.linspace(f.ppf(0., dfn, dfd), f.ppf(0.99, dfn, dfd), 1000)\n",
    "    F_dist = f.pdf(x, dfn, dfd)\n",
    "    # Находим критические значения\n",
    "    F_crit = f.ppf(level, dfn, dfd)\n",
    "    # Строим график и отмечаем критические значения\n",
    "    print(\"F-распределение:\")\n",
    "    sns.lineplot(x, F_dist)\n",
    "    plt.plot([F_crit, F_crit], [0, 1.], color=\"r\")\n",
    "    plt.show(block=False)\n",
    "    \n",
    "    if F > F_crit:\n",
    "        print(\"Так как наблюдаемое значение F-статистики (%s) больше чем F-критическое(%s), то нулевая гипотеза отвергается.\" % (round(F, round_fact), round(F_crit, round_fact)))\n",
    "    else:\n",
    "        plt.plot([F, F], [0, 1.], color=\"b\")\n",
    "        plt.show(block=False)\n",
    "        print(\"Так как наблюдаемое значение F-статистики (%s) меньше чем F-критическое(%s), то нулевая гипотеза принимается.\" % (round(F, round_fact), round(F_crit, round_fact)))"
   ]
  },
  {
   "cell_type": "markdown",
   "metadata": {},
   "source": [
    "Рассчет:"
   ]
  },
  {
   "cell_type": "code",
   "execution_count": 14,
   "metadata": {},
   "outputs": [
    {
     "name": "stdout",
     "output_type": "stream",
     "text": [
      "F-распределение:\n"
     ]
    },
    {
     "data": {
      "image/png": "[encoded data removed]",
      "text/plain": [
       "<Figure size 432x288 with 1 Axes>"
      ]
     },
     "metadata": {
      "needs_background": "light"
     },
     "output_type": "display_data"
    },
    {
     "name": "stdout",
     "output_type": "stream",
     "text": [
      "Так как наблюдаемое значение F-статистики (7.2685) больше чем F-критическое(2.9985), то нулевая гипотеза отвергается.\n"
     ]
    }
   ],
   "source": [
    "Ramsay_test(βaux_, β_, R2aux, R2, n_obs)"
   ]
  },
  {
   "cell_type": "code",
   "execution_count": null,
   "metadata": {},
   "outputs": [],
   "source": []
  }
 ],
 "metadata": {
  "kernelspec": {
   "display_name": "Python 3",
   "language": "python",
   "name": "python3"
  },
  "language_info": {
   "codemirror_mode": {
    "name": "ipython",
    "version": 3
   },
   "file_extension": ".py",
   "mimetype": "text/x-python",
   "name": "python",
   "nbconvert_exporter": "python",
   "pygments_lexer": "ipython3",
   "version": "3.6.9"
  }
 },
 "nbformat": 4,
 "nbformat_minor": 4
}
