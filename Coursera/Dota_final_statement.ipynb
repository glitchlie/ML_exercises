{
 "cells": [
  {
   "cell_type": "code",
   "execution_count": 89,
   "metadata": {},
   "outputs": [],
   "source": [
    "import pandas as pd\n",
    "from sklearn.preprocessing import StandardScaler\n",
    "from sklearn.linear_model import LogisticRegression\n",
    "from sklearn.model_selection import KFold, GridSearchCV\n",
    "from sklearn.ensemble import GradientBoostingClassifier\n",
    "from sklearn.metrics import roc_auc_score, make_scorer\n",
    "import seaborn as sns\n",
    "import numpy as np\n",
    "import matplotlib.pyplot as plt\n",
    "import time\n",
    "import datetime\n",
    "df = pd.read_csv('/home/nick/study/coursera/data/Kaggle/Dota/features.csv')\n",
    "pd.set_option('display.max_rows', 500)\n",
    "pd.set_option('display.max_columns', 500)\n",
    "pd.set_option('display.width', 1000)"
   ]
  },
  {
   "cell_type": "markdown",
   "metadata": {},
   "source": [
    "# Подход 1: градиентный бустинг \"в лоб\"\n",
    "Выполним предобработку данных:"
   ]
  },
  {
   "cell_type": "code",
   "execution_count": 21,
   "metadata": {},
   "outputs": [
    {
     "data": {
      "text/plain": [
       "match_id                           0\n",
       "start_time                         0\n",
       "lobby_type                         0\n",
       "r1_hero                            0\n",
       "r1_level                           0\n",
       "r1_xp                              0\n",
       "r1_gold                            0\n",
       "r1_lh                              0\n",
       "r1_kills                           0\n",
       "r1_deaths                          0\n",
       "r1_items                           0\n",
       "r2_hero                            0\n",
       "r2_level                           0\n",
       "r2_xp                              0\n",
       "r2_gold                            0\n",
       "r2_lh                              0\n",
       "r2_kills                           0\n",
       "r2_deaths                          0\n",
       "r2_items                           0\n",
       "r3_hero                            0\n",
       "r3_level                           0\n",
       "r3_xp                              0\n",
       "r3_gold                            0\n",
       "r3_lh                              0\n",
       "r3_kills                           0\n",
       "r3_deaths                          0\n",
       "r3_items                           0\n",
       "r4_hero                            0\n",
       "r4_level                           0\n",
       "r4_xp                              0\n",
       "r4_gold                            0\n",
       "r4_lh                              0\n",
       "r4_kills                           0\n",
       "r4_deaths                          0\n",
       "r4_items                           0\n",
       "r5_hero                            0\n",
       "r5_level                           0\n",
       "r5_xp                              0\n",
       "r5_gold                            0\n",
       "r5_lh                              0\n",
       "r5_kills                           0\n",
       "r5_deaths                          0\n",
       "r5_items                           0\n",
       "d1_hero                            0\n",
       "d1_level                           0\n",
       "d1_xp                              0\n",
       "d1_gold                            0\n",
       "d1_lh                              0\n",
       "d1_kills                           0\n",
       "d1_deaths                          0\n",
       "d1_items                           0\n",
       "d2_hero                            0\n",
       "d2_level                           0\n",
       "d2_xp                              0\n",
       "d2_gold                            0\n",
       "d2_lh                              0\n",
       "d2_kills                           0\n",
       "d2_deaths                          0\n",
       "d2_items                           0\n",
       "d3_hero                            0\n",
       "d3_level                           0\n",
       "d3_xp                              0\n",
       "d3_gold                            0\n",
       "d3_lh                              0\n",
       "d3_kills                           0\n",
       "d3_deaths                          0\n",
       "d3_items                           0\n",
       "d4_hero                            0\n",
       "d4_level                           0\n",
       "d4_xp                              0\n",
       "d4_gold                            0\n",
       "d4_lh                              0\n",
       "d4_kills                           0\n",
       "d4_deaths                          0\n",
       "d4_items                           0\n",
       "d5_hero                            0\n",
       "d5_level                           0\n",
       "d5_xp                              0\n",
       "d5_gold                            0\n",
       "d5_lh                              0\n",
       "d5_kills                           0\n",
       "d5_deaths                          0\n",
       "d5_items                           0\n",
       "first_blood_time               19553\n",
       "first_blood_team               19553\n",
       "first_blood_player1            19553\n",
       "first_blood_player2            43987\n",
       "radiant_bottle_time            15691\n",
       "radiant_courier_time             692\n",
       "radiant_flying_courier_time    27479\n",
       "radiant_tpscroll_count             0\n",
       "radiant_boots_count                0\n",
       "radiant_ward_observer_count        0\n",
       "radiant_ward_sentry_count          0\n",
       "radiant_first_ward_time         1836\n",
       "dire_bottle_time               16143\n",
       "dire_courier_time                676\n",
       "dire_flying_courier_time       26098\n",
       "dire_tpscroll_count                0\n",
       "dire_boots_count                   0\n",
       "dire_ward_observer_count           0\n",
       "dire_ward_sentry_count             0\n",
       "dire_first_ward_time            1826\n",
       "duration                           0\n",
       "radiant_win                        0\n",
       "tower_status_radiant               0\n",
       "tower_status_dire                  0\n",
       "barracks_status_radiant            0\n",
       "barracks_status_dire               0\n",
       "dtype: int64"
      ]
     },
     "execution_count": 21,
     "metadata": {},
     "output_type": "execute_result"
    }
   ],
   "source": [
    "df.isna().sum()"
   ]
  },
  {
   "cell_type": "markdown",
   "metadata": {},
   "source": [
    "Пропущеные значения присутствуют в полях: \n",
    "- first_blood_time\n",
    "- first_blood_team\n",
    "- first_blood_player1\n",
    "- first_blood_player2\n",
    "- radiant_bottle_time\n",
    "- radiant_courier_time\n",
    "- radiant_flying_courier_time\n",
    "- radiant_first_ward_time\n",
    "- dire_bottle_time\n",
    "- dire_courier_time\n",
    "- dire_flying_courier_time\n",
    "- dire_first_ward_time\n",
    "\n",
    "Пропуски в данных объясняются следующим образом:\n",
    "- Для \"first_blood_time\" - за первые пять минут может не произойти события \"Первой крови\". Это соответственно распространяется и на признаки \"first_blood_team\", \"first_blood_player1\" и \"first_blood_player2\". Причем заметно, что пропусков для \"first_blood_player2\" примерно в два раза больше, чем для \"first_blood_player1\". Это происходит в том случае, если игрока убила башня, при этом рядом не было противника, наносящего урон. Также возможно то, что значение просто не записалось(сбой при записи или обработке.)\n",
    "- Касательно \"radiant_first_ward_time\" - команды не покупали варды в течение первых пяти минут. Это касается и бутылок, причем пропусков гораздо больше, так как это необязательный предмет.\n",
    "- \"dire_courier_time\" - тут сложнее. К сожалению я не играл в Доту, но я выяснил у друзей, что курьера дают всем в начале игры. Поэтому могу предположить что это сбой в записи данных.\n",
    "- \"radiant_flying_courier_time\" - за первые пять минут игры может произойти так, что ни один игрок не успеет докачать своего курьера до летающего.\n",
    "\n",
    "Конечно, для всего вышеперечисленного возможны ошибки при записи или обработке значений."
   ]
  },
  {
   "cell_type": "markdown",
   "metadata": {},
   "source": [
    "Для начала попробуем способ, предложенный авторами задания - заменить все пропуски на нули.\n",
    "\n",
    "Целевая переменная содержится в столбце \"radiant_win\".\n",
    "\n",
    "Сформируем обучающую выборку. Заметим, что в исходных данных присутствуют данные, напрямую относящиеся к концу матча: длительность, состояние башен и барраков. Из за этих признаков мы будем заглядывать в будущее и переобучаться. Заметим также, что в тестовых данных эти признаки отстутствуют.\n",
    "\n",
    "Обучим градиентный бустинг, с количеством деревьев от 10 до 100 с шагом 10 и построим график зависимости качества на кросс-валидации от числа деревьев:"
   ]
  },
  {
   "cell_type": "code",
   "execution_count": 14,
   "metadata": {},
   "outputs": [
    {
     "name": "stdout",
     "output_type": "stream",
     "text": [
      "Time elapsed: 0:33:50.181575\n",
      "Лучший параметр: 100\n",
      "Лучшее качество: 0.646\n"
     ]
    },
    {
     "data": {
      "image/png": "[encoded data removed]",
      "text/plain": [
       "<Figure size 432x288 with 1 Axes>"
      ]
     },
     "metadata": {},
     "output_type": "display_data"
    }
   ],
   "source": [
    "df = df.fillna(0)\n",
    "\n",
    "test = pd.read_csv('/home/nick/study/coursera/data/Kaggle/Dota/features_test.csv')\n",
    "X = df.drop(columns=['radiant_win'])\n",
    "diff = list(set(X.columns).difference(set(test.columns)))\n",
    "\n",
    "X = X.drop(columns=diff)\n",
    "y = df.radiant_win\n",
    "\n",
    "params = {'n_estimators':np.arange(10,110, 10)}\n",
    "\n",
    "cv = KFold(n_splits=5, shuffle=True)\n",
    "GBC = GradientBoostingClassifier()\n",
    "ROC_AUC = make_scorer(roc_auc_score)\n",
    "clf = GridSearchCV(estimator=GBC, cv=cv, param_grid=params, scoring=ROC_AUC)\n",
    "\n",
    "start_time = datetime.datetime.now()\n",
    "clf.fit(X, y)\n",
    "print('Time elapsed:', datetime.datetime.now() - start_time)\n",
    "\n",
    "test_results = pd.DataFrame(clf.cv_results_)\n",
    "sns.lineplot(x=test_results.param_n_estimators, y=test_results.mean_test_score)\n",
    "print('Лучший параметр:', round(clf.best_params_['n_estimators'], 1))\n",
    "print('Лучшее качество:', round(clf.best_score_, 3))"
   ]
  },
  {
   "cell_type": "code",
   "execution_count": 16,
   "metadata": {},
   "outputs": [],
   "source": [
    "test_results.to_csv(\"/home/nick/results/GridSearch_100_estimators_results.csv\")"
   ]
  },
  {
   "cell_type": "code",
   "execution_count": 91,
   "metadata": {},
   "outputs": [
    {
     "name": "stdout",
     "output_type": "stream",
     "text": [
      "Time elapsed: 0:02:29.662309\n",
      "Лучшее качество: 0.681\n"
     ]
    }
   ],
   "source": [
    "df = df.fillna(0)\n",
    "\n",
    "test = pd.read_csv('/home/nick/study/coursera/data/Kaggle/Dota/features_test.csv')\n",
    "X = df.drop(columns=['radiant_win'])\n",
    "diff = list(set(X.columns).difference(set(test.columns)))\n",
    "\n",
    "X = X.drop(columns=diff)\n",
    "y = df.radiant_win\n",
    "\n",
    "params = {'n_estimators':[30]}\n",
    "\n",
    "clf_30 = GridSearchCV(estimator=GBC, cv=cv, param_grid=params, scoring=ROC_AUC)\n",
    "\n",
    "start_time = datetime.datetime.now()\n",
    "clf_30.fit(X, y)\n",
    "print('Time elapsed:', datetime.datetime.now() - start_time)\n",
    "test_results = pd.DataFrame(clf.cv_results_)\n",
    "test_results.to_csv(\"GridSearch_30_results.csv\")\n",
    "print('Лучшее качество:', round(clf.best_score_, 3))"
   ]
  },
  {
   "cell_type": "markdown",
   "metadata": {},
   "source": [
    "Время обучения градиентного бустинга с 30-ю деревьями: 0:02:29\n",
    "\n",
    "По графику видно, что увеличение количества деревьев в диапазоне от 10 до 40 приводит к хорошему росту качества, но после 60 прирост становится не так заметен(с 60 до 80 он составил < 0.5%), поэтому нет особого смысла обучать алгоритм более чем на 40 деревьях.\n",
    "\n",
    "Для того, чтобы ускорить работу градиентного бустинга, можно уменьшить время обучения отдельного дерева, например уменьшить его глубину. Также можно уменьшить размер обучающей выборки. Ещё можно избавиться от не очень важных прзнаков - например таких, как покупка предмета 'bottle'."
   ]
  },
  {
   "cell_type": "markdown",
   "metadata": {},
   "source": [
    "# Подход 2: логистическая регрессия\n",
    "Выполним предобработку данных - всё также, но дополнительно отмасштабируем признаки, так как регрессия чувствительна к масштабу признаков.\n",
    "Обучим линейную регрессию и подберем наилучший параметр регуляризации."
   ]
  },
  {
   "cell_type": "code",
   "execution_count": 26,
   "metadata": {},
   "outputs": [
    {
     "name": "stdout",
     "output_type": "stream",
     "text": [
      "Time elapsed: 0:24:17.078248\n",
      "Лучший параметр: 0.1\n",
      "Лучшее качество: 0.654\n"
     ]
    },
    {
     "data": {
      "text/plain": [
       "<matplotlib.axes._subplots.AxesSubplot at 0x7f3ef0e100b8>"
      ]
     },
     "execution_count": 26,
     "metadata": {},
     "output_type": "execute_result"
    },
    {
     "data": {
      "image/png": "[encoded data removed]",
      "text/plain": [
       "<Figure size 432x288 with 1 Axes>"
      ]
     },
     "metadata": {},
     "output_type": "display_data"
    }
   ],
   "source": [
    "df = df.fillna(0)\n",
    "\n",
    "test = pd.read_csv('/home/nick/study/coursera/data/Kaggle/Dota/features_test.csv')\n",
    "X = df.drop(columns=['radiant_win'])\n",
    "diff = list(set(X.columns).difference(set(test.columns)))\n",
    "\n",
    "X = X.drop(columns=diff)\n",
    "y = df.radiant_win\n",
    "\n",
    "scaler = StandardScaler()\n",
    "\n",
    "X = pd.DataFrame(scaler.fit_transform(X), columns=X.columns)\n",
    "\n",
    "params = {'C':np.arange(0.1,20, 0.1)}\n",
    "\n",
    "cv = KFold(n_splits=5, shuffle=True)\n",
    "LogReg = LogisticRegression(penalty='l2')\n",
    "ROC_AUC = make_scorer(roc_auc_score)\n",
    "clf = GridSearchCV(estimator=LogReg, cv=cv, param_grid=params, scoring=ROC_AUC)\n",
    "\n",
    "start_time = datetime.datetime.now()\n",
    "clf.fit(X, y)\n",
    "print('Time elapsed:', datetime.datetime.now() - start_time)\n",
    "print('Лучший параметр:', round(clf.best_params_['C'], 1))\n",
    "print('Лучшее качество:', round(clf.best_score_, 3))\n",
    "\n",
    "tests = pd.DataFrame(clf.cv_results_)\n",
    "tests.to_csv(\"LogReg_01_20_01_results.csv\")\n",
    "sns.lineplot(x=tests.param_C, y=tests.mean_test_score)"
   ]
  },
  {
   "cell_type": "markdown",
   "metadata": {},
   "source": [
    "Логистическая регрессия при переборе 190 вариантов параметра \"С\" обучается в два раза быстрее, чем градиентный бустинг, перебирающий 10 параметров деревьев, глубиной от 10 до 110.\n",
    "Лучшее качество логистической регрессии - 0.654, градиентного бустинга - 0.646. Разница совсем небольшая. Можно предположить, что это происходит потому что мы работем с классами героев как с числами, а не как с метками классов. Попробуем исключить все категориальные признаки и обучить модель на таких данных."
   ]
  },
  {
   "cell_type": "code",
   "execution_count": 29,
   "metadata": {},
   "outputs": [
    {
     "name": "stdout",
     "output_type": "stream",
     "text": [
      "Time elapsed: 0:19:55.714239\n",
      "Лучший параметр: 0.9\n",
      "Лучшее качество: 0.654\n"
     ]
    },
    {
     "data": {
      "text/plain": [
       "<matplotlib.axes._subplots.AxesSubplot at 0x7f3ef0e21cf8>"
      ]
     },
     "execution_count": 29,
     "metadata": {},
     "output_type": "execute_result"
    },
    {
     "data": {
      "image/png": "[encoded data removed]",
      "text/plain": [
       "<Figure size 432x288 with 1 Axes>"
      ]
     },
     "metadata": {},
     "output_type": "display_data"
    }
   ],
   "source": [
    "df = df.fillna(0)\n",
    "\n",
    "test = pd.read_csv('/home/nick/study/coursera/data/Kaggle/Dota/features_test.csv')\n",
    "X = df.drop(columns=['radiant_win'])\n",
    "diff = list(set(X.columns).difference(set(test.columns)))\n",
    "\n",
    "X = X.drop(columns=diff)\n",
    "y = df.radiant_win\n",
    "drop = X.filter(regex='_hero').columns\n",
    "X = X.drop(columns=drop)\n",
    "\n",
    "scaler = StandardScaler()\n",
    "\n",
    "X = pd.DataFrame(scaler.fit_transform(X), columns=X.columns)\n",
    "\n",
    "params = {'C':np.arange(0.1,20, 0.1)}\n",
    "\n",
    "cv = KFold(n_splits=5, shuffle=True)\n",
    "LogReg = LogisticRegression(penalty='l2')\n",
    "ROC_AUC = make_scorer(roc_auc_score)\n",
    "clf = GridSearchCV(estimator=LogReg, cv=cv, param_grid=params, scoring=ROC_AUC)\n",
    "\n",
    "start_time = datetime.datetime.now()\n",
    "clf.fit(X, y)\n",
    "print('Time elapsed:', datetime.datetime.now() - start_time)\n",
    "print('Лучший параметр:', round(clf.best_params_['C'], 1))\n",
    "print('Лучшее качество:', round(clf.best_score_, 3))\n",
    "\n",
    "tests = pd.DataFrame(clf.cv_results_)\n",
    "tests.to_csv(\"LogReg_01_20_01_no_champ_results.csv\")\n",
    "sns.lineplot(x=tests.param_C, y=tests.mean_test_score)"
   ]
  },
  {
   "cell_type": "markdown",
   "metadata": {},
   "source": [
    "Качество предсказаний осталось тем же. По всей видимости, нет разницы в том, присутствуют ли данные о героях, или нет - пока герои не представлены отдельными признаками, алгоритм слабо учитывает их.\n",
    "Изменим подход - оставим данные о героях, сформируем признаки при помощи \"мешка слов\":"
   ]
  },
  {
   "cell_type": "code",
   "execution_count": 30,
   "metadata": {
    "scrolled": true
   },
   "outputs": [
    {
     "name": "stdout",
     "output_type": "stream",
     "text": [
      "r1_hero    108\n",
      "r2_hero    108\n",
      "r3_hero    108\n",
      "r4_hero    108\n",
      "r5_hero    108\n",
      "d1_hero    108\n",
      "d2_hero    108\n",
      "d3_hero    108\n",
      "d4_hero    108\n",
      "d5_hero    108\n",
      "dtype: int64\n",
      "[1, 2, 3, 4, 5, 6, 7, 8, 9, 10, 11, 12, 13, 14, 15, 16, 17, 18, 19, 20, 21, 22, 23, 25, 26, 27, 28, 29, 30, 31, 32, 33, 34, 35, 36, 37, 38, 39, 40, 41, 42, 43, 44, 45, 46, 47, 48, 49, 50, 51, 52, 53, 54, 55, 56, 57, 58, 59, 60, 61, 62, 63, 64, 65, 66, 67, 68, 69, 70, 71, 72, 73, 74, 75, 76, 77, 78, 79, 80, 81, 82, 83, 84, 85, 86, 87, 88, 89, 90, 91, 92, 93, 94, 95, 96, 97, 98, 99, 100, 101, 102, 103, 104, 105, 106, 109, 110, 112]\n",
      "[1, 2, 3, 4, 5, 6, 7, 8, 9, 10, 11, 12, 13, 14, 15, 16, 17, 18, 19, 20, 21, 22, 23, 25, 26, 27, 28, 29, 30, 31, 32, 33, 34, 35, 36, 37, 38, 39, 40, 41, 42, 43, 44, 45, 46, 47, 48, 49, 50, 51, 52, 53, 54, 55, 56, 57, 58, 59, 60, 61, 62, 63, 64, 65, 66, 67, 68, 69, 70, 71, 72, 73, 74, 75, 76, 77, 78, 79, 80, 81, 82, 83, 84, 85, 86, 87, 88, 89, 90, 91, 92, 93, 94, 95, 96, 97, 98, 99, 100, 101, 102, 103, 104, 105, 106, 109, 110, 112]\n",
      "[1, 2, 3, 4, 5, 6, 7, 8, 9, 10, 11, 12, 13, 14, 15, 16, 17, 18, 19, 20, 21, 22, 23, 25, 26, 27, 28, 29, 30, 31, 32, 33, 34, 35, 36, 37, 38, 39, 40, 41, 42, 43, 44, 45, 46, 47, 48, 49, 50, 51, 52, 53, 54, 55, 56, 57, 58, 59, 60, 61, 62, 63, 64, 65, 66, 67, 68, 69, 70, 71, 72, 73, 74, 75, 76, 77, 78, 79, 80, 81, 82, 83, 84, 85, 86, 87, 88, 89, 90, 91, 92, 93, 94, 95, 96, 97, 98, 99, 100, 101, 102, 103, 104, 105, 106, 109, 110, 112]\n",
      "[1, 2, 3, 4, 5, 6, 7, 8, 9, 10, 11, 12, 13, 14, 15, 16, 17, 18, 19, 20, 21, 22, 23, 25, 26, 27, 28, 29, 30, 31, 32, 33, 34, 35, 36, 37, 38, 39, 40, 41, 42, 43, 44, 45, 46, 47, 48, 49, 50, 51, 52, 53, 54, 55, 56, 57, 58, 59, 60, 61, 62, 63, 64, 65, 66, 67, 68, 69, 70, 71, 72, 73, 74, 75, 76, 77, 78, 79, 80, 81, 82, 83, 84, 85, 86, 87, 88, 89, 90, 91, 92, 93, 94, 95, 96, 97, 98, 99, 100, 101, 102, 103, 104, 105, 106, 109, 110, 112]\n",
      "[1, 2, 3, 4, 5, 6, 7, 8, 9, 10, 11, 12, 13, 14, 15, 16, 17, 18, 19, 20, 21, 22, 23, 25, 26, 27, 28, 29, 30, 31, 32, 33, 34, 35, 36, 37, 38, 39, 40, 41, 42, 43, 44, 45, 46, 47, 48, 49, 50, 51, 52, 53, 54, 55, 56, 57, 58, 59, 60, 61, 62, 63, 64, 65, 66, 67, 68, 69, 70, 71, 72, 73, 74, 75, 76, 77, 78, 79, 80, 81, 82, 83, 84, 85, 86, 87, 88, 89, 90, 91, 92, 93, 94, 95, 96, 97, 98, 99, 100, 101, 102, 103, 104, 105, 106, 109, 110, 112]\n",
      "[1, 2, 3, 4, 5, 6, 7, 8, 9, 10, 11, 12, 13, 14, 15, 16, 17, 18, 19, 20, 21, 22, 23, 25, 26, 27, 28, 29, 30, 31, 32, 33, 34, 35, 36, 37, 38, 39, 40, 41, 42, 43, 44, 45, 46, 47, 48, 49, 50, 51, 52, 53, 54, 55, 56, 57, 58, 59, 60, 61, 62, 63, 64, 65, 66, 67, 68, 69, 70, 71, 72, 73, 74, 75, 76, 77, 78, 79, 80, 81, 82, 83, 84, 85, 86, 87, 88, 89, 90, 91, 92, 93, 94, 95, 96, 97, 98, 99, 100, 101, 102, 103, 104, 105, 106, 109, 110, 112]\n",
      "[1, 2, 3, 4, 5, 6, 7, 8, 9, 10, 11, 12, 13, 14, 15, 16, 17, 18, 19, 20, 21, 22, 23, 25, 26, 27, 28, 29, 30, 31, 32, 33, 34, 35, 36, 37, 38, 39, 40, 41, 42, 43, 44, 45, 46, 47, 48, 49, 50, 51, 52, 53, 54, 55, 56, 57, 58, 59, 60, 61, 62, 63, 64, 65, 66, 67, 68, 69, 70, 71, 72, 73, 74, 75, 76, 77, 78, 79, 80, 81, 82, 83, 84, 85, 86, 87, 88, 89, 90, 91, 92, 93, 94, 95, 96, 97, 98, 99, 100, 101, 102, 103, 104, 105, 106, 109, 110, 112]\n",
      "[1, 2, 3, 4, 5, 6, 7, 8, 9, 10, 11, 12, 13, 14, 15, 16, 17, 18, 19, 20, 21, 22, 23, 25, 26, 27, 28, 29, 30, 31, 32, 33, 34, 35, 36, 37, 38, 39, 40, 41, 42, 43, 44, 45, 46, 47, 48, 49, 50, 51, 52, 53, 54, 55, 56, 57, 58, 59, 60, 61, 62, 63, 64, 65, 66, 67, 68, 69, 70, 71, 72, 73, 74, 75, 76, 77, 78, 79, 80, 81, 82, 83, 84, 85, 86, 87, 88, 89, 90, 91, 92, 93, 94, 95, 96, 97, 98, 99, 100, 101, 102, 103, 104, 105, 106, 109, 110, 112]\n",
      "[1, 2, 3, 4, 5, 6, 7, 8, 9, 10, 11, 12, 13, 14, 15, 16, 17, 18, 19, 20, 21, 22, 23, 25, 26, 27, 28, 29, 30, 31, 32, 33, 34, 35, 36, 37, 38, 39, 40, 41, 42, 43, 44, 45, 46, 47, 48, 49, 50, 51, 52, 53, 54, 55, 56, 57, 58, 59, 60, 61, 62, 63, 64, 65, 66, 67, 68, 69, 70, 71, 72, 73, 74, 75, 76, 77, 78, 79, 80, 81, 82, 83, 84, 85, 86, 87, 88, 89, 90, 91, 92, 93, 94, 95, 96, 97, 98, 99, 100, 101, 102, 103, 104, 105, 106, 109, 110, 112]\n",
      "[1, 2, 3, 4, 5, 6, 7, 8, 9, 10, 11, 12, 13, 14, 15, 16, 17, 18, 19, 20, 21, 22, 23, 25, 26, 27, 28, 29, 30, 31, 32, 33, 34, 35, 36, 37, 38, 39, 40, 41, 42, 43, 44, 45, 46, 47, 48, 49, 50, 51, 52, 53, 54, 55, 56, 57, 58, 59, 60, 61, 62, 63, 64, 65, 66, 67, 68, 69, 70, 71, 72, 73, 74, 75, 76, 77, 78, 79, 80, 81, 82, 83, 84, 85, 86, 87, 88, 89, 90, 91, 92, 93, 94, 95, 96, 97, 98, 99, 100, 101, 102, 103, 104, 105, 106, 109, 110, 112]\n"
     ]
    }
   ],
   "source": [
    "print(df.filter(regex='_hero').nunique())\n",
    "un_val = df.filter(regex='_hero')\n",
    "for col in un_val:\n",
    "    print(sorted(un_val[col].unique()))"
   ]
  },
  {
   "cell_type": "markdown",
   "metadata": {},
   "source": [
    "Всего у нас 108 различных героев, но можно заметить, что многие порядковые номера пропущены, максимальный номер равен 112. Сделаем датафрейм с чемпионами чуть больше, затем уберем пустые колонки."
   ]
  },
  {
   "cell_type": "code",
   "execution_count": 36,
   "metadata": {},
   "outputs": [
    {
     "name": "stdout",
     "output_type": "stream",
     "text": [
      "(97230, 108)\n",
      "(97230, 103)\n",
      "(97230, 211)\n",
      "Time elapsed: 0:38:21.707184\n",
      "Лучший параметр: 0.1\n",
      "Лучшее качество: 0.681\n"
     ]
    },
    {
     "data": {
      "image/png": "[encoded data removed]",
      "text/plain": [
       "<Figure size 432x288 with 1 Axes>"
      ]
     },
     "metadata": {},
     "output_type": "display_data"
    }
   ],
   "source": [
    "df = df.fillna(0)\n",
    "\n",
    "test = pd.read_csv('/home/nick/study/coursera/data/Kaggle/Dota/features_test.csv')\n",
    "X = df.drop(columns=['radiant_win'])\n",
    "diff = list(set(X.columns).difference(set(test.columns)))\n",
    "\n",
    "X = X.drop(columns=diff)\n",
    "y = df.radiant_win\n",
    "\n",
    "N = 113 #героев 108, но некоторые пропущены, наибольший номер - 112\n",
    "X_pick = np.empty((df.shape[0], N))\n",
    "X_pick[:] = np.nan\n",
    "\n",
    "for i, match_id in enumerate(df.index):\n",
    "    for p in range(5):\n",
    "        X_pick[i, df.loc[match_id, 'r%d_hero' % (p+1)]-1] = 1\n",
    "        X_pick[i, df.loc[match_id, 'd%d_hero' % (p+1)]-1] = -1\n",
    "X_pick = pd.DataFrame(X_pick)\n",
    "empty_cols = [col for col in X_pick.columns if X_pick[col].isna().all()]\n",
    "X_pick = X_pick.drop(columns=empty_cols).fillna(0)\n",
    "\n",
    "print(X_pick.shape)\n",
    "print(X.shape)\n",
    "X = pd.concat([X, X_pick], axis=1)\n",
    "print(X.shape)  #Проверим, что мы ничего не потеряли\n",
    "\n",
    "scaler = StandardScaler()\n",
    "\n",
    "X = pd.DataFrame(scaler.fit_transform(X), columns=X.columns)\n",
    "\n",
    "params = {'C':np.arange(0.1,20, 0.1)}\n",
    "\n",
    "cv = KFold(n_splits=5, shuffle=True)\n",
    "LogReg = LogisticRegression(penalty='l2')\n",
    "ROC_AUC = make_scorer(roc_auc_score)\n",
    "clf = GridSearchCV(estimator=LogReg, cv=cv, param_grid=params, scoring=ROC_AUC)\n",
    "\n",
    "start_time = datetime.datetime.now()\n",
    "clf.fit(X, y)\n",
    "print('Time elapsed:', datetime.datetime.now() - start_time)\n",
    "tests = pd.DataFrame(clf.cv_results_)\n",
    "sns.lineplot(x=tests.param_C, y=tests.mean_test_score)\n",
    "print('Лучший параметр:', round(clf.best_params_['C'], 1))\n",
    "print('Лучшее качество:', round(clf.best_score_, 3))\n",
    "\n",
    "tests.to_csv(\"LogReg_01_20_01_w_champ_results.csv\")"
   ]
  },
  {
   "cell_type": "markdown",
   "metadata": {},
   "source": [
    "Качество улучшилось, так как стали учитываться герои, которые различаются по способностям и, следовательно, влияют на результат матча. \n",
    "Качество этой модели - наивысшее из всех испробованных. Её и будем использовать на тестовой выборке."
   ]
  },
  {
   "cell_type": "code",
   "execution_count": 39,
   "metadata": {},
   "outputs": [
    {
     "data": {
      "text/plain": [
       "LogisticRegression(C=0.1, class_weight=None, dual=False, fit_intercept=True,\n",
       "                   intercept_scaling=1, l1_ratio=None, max_iter=100,\n",
       "                   multi_class='auto', n_jobs=None, penalty='l2',\n",
       "                   random_state=None, solver='lbfgs', tol=0.0001, verbose=0,\n",
       "                   warm_start=False)"
      ]
     },
     "execution_count": 39,
     "metadata": {},
     "output_type": "execute_result"
    }
   ],
   "source": [
    "best_LogReg = clf.best_estimator_\n",
    "best_LogReg.fit(X, y)"
   ]
  },
  {
   "cell_type": "code",
   "execution_count": 73,
   "metadata": {},
   "outputs": [
    {
     "name": "stdout",
     "output_type": "stream",
     "text": [
      "(17177, 108)\n",
      "(17177, 103)\n",
      "(17177, 211)\n"
     ]
    }
   ],
   "source": [
    "test_data = pd.read_csv('/home/nick/study/coursera/data/Kaggle/Dota/features_test.csv')\n",
    "\n",
    "X = test_data\n",
    "X = X.fillna(0)\n",
    "N = 113 #героев 108, но некоторые пропущены, наибольший номер - 112\n",
    "X_pick = np.empty((X.shape[0], N))\n",
    "X_pick[:] = np.nan\n",
    "\n",
    "for i, match_id in enumerate(X.index):\n",
    "    for p in range(5):\n",
    "        X_pick[i, df.loc[match_id, 'r%d_hero' % (p+1)]-1] = 1\n",
    "        X_pick[i, df.loc[match_id, 'd%d_hero' % (p+1)]-1] = -1\n",
    "        \n",
    "X_pick = pd.DataFrame(X_pick)\n",
    "empty_cols = [col for col in X_pick.columns if X_pick[col].isna().all()]\n",
    "X_pick = X_pick.drop(columns=empty_cols).fillna(0)\n",
    "\n",
    "print(X_pick.shape)\n",
    "print(X.shape)\n",
    "X = pd.concat([X, X_pick], axis=1)\n",
    "print(X.shape)\n",
    "\n",
    "X = pd.DataFrame(scaler.fit_transform(X), columns=X.columns)\n",
    "y_pred_prob = np.array(best_LogReg.predict_proba(X))\n",
    "y_pred = np.array(best_LogReg.predict(X))\n",
    "predictions = []\n",
    "for i in range(len(y_pred)):\n",
    "    predictions.append([y_pred[i], max(y_pred_prob[i])])\n",
    "predictions_data = pd.DataFrame(predictions, columns=['radiant_win', 'probability'])"
   ]
  },
  {
   "cell_type": "code",
   "execution_count": 87,
   "metadata": {},
   "outputs": [
    {
     "name": "stdout",
     "output_type": "stream",
     "text": [
      "Минимальное значение: победит команда Dire с вероятностью 0.5000217891809744\n",
      "Максимальное значение: победит команда Radiant с вероятностью 0.9958799652621109\n"
     ]
    }
   ],
   "source": [
    "print('Минимальное значение: победит команда Dire с вероятностью {}'.format(predictions_data.sort_values(by='probability').iloc[1].probability))\n",
    "print('Максимальное значение: победит команда Radiant с вероятностью {}'.format(predictions_data.sort_values(by='probability', ascending=False).iloc[1].probability))"
   ]
  }
 ],
 "metadata": {
  "kernelspec": {
   "display_name": "Python 3",
   "language": "python",
   "name": "python3"
  },
  "language_info": {
   "codemirror_mode": {
    "name": "ipython",
    "version": 3
   },
   "file_extension": ".py",
   "mimetype": "text/x-python",
   "name": "python",
   "nbconvert_exporter": "python",
   "pygments_lexer": "ipython3",
   "version": "3.6.9"
  }
 },
 "nbformat": 4,
 "nbformat_minor": 2
}
