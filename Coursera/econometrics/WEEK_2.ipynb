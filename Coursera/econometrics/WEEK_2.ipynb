{
 "cells": [
  {
   "cell_type": "markdown",
   "metadata": {},
   "source": [
    "# Econometrics - Week 2"
   ]
  },
  {
   "cell_type": "code",
   "execution_count": 1,
   "metadata": {},
   "outputs": [],
   "source": [
    "import numpy as np\n",
    "from scipy.stats import chi2\n",
    "import seaborn as sns\n",
    "import matplotlib.pyplot as plt"
   ]
  },
  {
   "cell_type": "markdown",
   "metadata": {},
   "source": [
    "### 2.1.12. Пример. Доверительный интервал для коэффициента бета [у доски]"
   ]
  },
  {
   "cell_type": "markdown",
   "metadata": {},
   "source": [
    "Задача:\n",
    "- Построить 95% доверительный интервал для b_A"
   ]
  },
  {
   "cell_type": "markdown",
   "metadata": {},
   "source": [
    "Условия задачи:"
   ]
  },
  {
   "cell_type": "code",
   "execution_count": 129,
   "metadata": {},
   "outputs": [],
   "source": [
    "n_obs = 47\n",
    "b_ = np.array([59.8, 0.109, 0.115])\n",
    "var_b_ = np.array([[15.9, -0.257, -0.007], \n",
    "                   [-0.257, 0.00616, -0.00135], \n",
    "                   [-0.007, -0.00135, 0.00182]]).T"
   ]
  },
  {
   "cell_type": "markdown",
   "metadata": {},
   "source": [
    "Функция для рассчета:"
   ]
  },
  {
   "cell_type": "code",
   "execution_count": 7,
   "metadata": {},
   "outputs": [],
   "source": [
    "def confidence_interval_coeff(b_, var_b, b_ind, n_obs, level=0.95, round_fact=4):\n",
    "    degr_free = n_obs - b_.shape[0]\n",
    "    t_dist = np.random.standard_t(degr_free, size=100000)\n",
    "    q = level + (1 - level) / 2\n",
    "    quantile = np.quantile(t_dist, q=q)\n",
    "    \n",
    "    print(\"Распределение Стьюдента:\")\n",
    "    sns.distplot(t_dist)\n",
    "    plt.plot([quantile, quantile], [0, 0.4], color=\"r\")\n",
    "    plt.plot([-quantile, -quantile], [0, 0.4], color=\"r\")\n",
    "    plt.show(block=False)\n",
    "\n",
    "    conf_int_left = round(b_[b_ind] - quantile * np.sqrt(var_b[b_ind, b_ind]), round_fact)\n",
    "    conf_int_right = round(b_[b_ind] + quantile * np.sqrt(var_b[b_ind, b_ind]), round_fact)\n",
    "    \n",
    "    print(\"Доверительный интервал: [%s < b_%s < %s]\" % (conf_int_left, b_ind, conf_int_right))"
   ]
  },
  {
   "cell_type": "markdown",
   "metadata": {},
   "source": [
    "Рассчет:"
   ]
  },
  {
   "cell_type": "code",
   "execution_count": 8,
   "metadata": {},
   "outputs": [
    {
     "name": "stdout",
     "output_type": "stream",
     "text": [
      "Распределение Стьюдента:\n"
     ]
    },
    {
     "data": {
      "image/png": "[encoded data removed]",
      "text/plain": [
       "<Figure size 432x288 with 1 Axes>"
      ]
     },
     "metadata": {
      "needs_background": "light"
     },
     "output_type": "display_data"
    },
    {
     "name": "stdout",
     "output_type": "stream",
     "text": [
      "Доверительный интервал: [-0.0486 < b_1 < 0.2666]\n"
     ]
    }
   ],
   "source": [
    "confidence_interval_coeff(b_, var_b_, 1, n_obs)"
   ]
  },
  {
   "cell_type": "markdown",
   "metadata": {},
   "source": [
    "### 2.1.13. Пример. Доверительный интервал для дисперсии [у доски]"
   ]
  },
  {
   "cell_type": "markdown",
   "metadata": {},
   "source": [
    "Задача:\n",
    "- Построить 95% доверительный интервал для σ ** 2"
   ]
  },
  {
   "cell_type": "markdown",
   "metadata": {},
   "source": [
    "Условия задачи:"
   ]
  },
  {
   "cell_type": "code",
   "execution_count": 9,
   "metadata": {},
   "outputs": [],
   "source": [
    "sigma = 11.07\n",
    "n_obs = 47\n",
    "k = 3"
   ]
  },
  {
   "cell_type": "markdown",
   "metadata": {},
   "source": [
    "Функция для рассчета:"
   ]
  },
  {
   "cell_type": "code",
   "execution_count": 10,
   "metadata": {},
   "outputs": [],
   "source": [
    "def confidence_interval_sigma(sigma, k, n_obs, level=0.95, round_fact=4):\n",
    "    df = n_obs - k\n",
    "    RSS = df * sigma ** 2\n",
    "    \n",
    "    x = np.linspace(0, 10, 10000)\n",
    "    chi2_dist = chi2.ppf(x, df)\n",
    "    \n",
    "    q_left = level + (1 - level) / 2\n",
    "    q_right = (1 - level) / 2\n",
    "    \n",
    "    chi2_crit_left, chi2_crit_right = chi2.ppf(q_left, df), chi2.ppf(q_right, df)\n",
    "    \n",
    "    print(\"Хи-квадрат распределение:\")\n",
    "    sns.distplot(chi2_dist)  \n",
    "    plt.plot([chi2_crit_left, chi2_crit_left], [0, 0.04], color=\"r\")\n",
    "    plt.plot([chi2_crit_right, chi2_crit_right], [0, 0.04], color=\"r\")\n",
    "    plt.show(block=False)\n",
    "    \n",
    "    conf_int_left = round(RSS / chi2_crit_left, round_fact)\n",
    "    conf_int_right = round(RSS / chi2_crit_right, round_fact)\n",
    "    \n",
    "    print(\"Доверительный интервал: [%s < σ ** 2 < %s]\" % (conf_int_left, conf_int_right))"
   ]
  },
  {
   "cell_type": "markdown",
   "metadata": {},
   "source": [
    "Рассчет:"
   ]
  },
  {
   "cell_type": "code",
   "execution_count": 11,
   "metadata": {},
   "outputs": [
    {
     "name": "stdout",
     "output_type": "stream",
     "text": [
      "Хи-квадрат распределение:\n"
     ]
    },
    {
     "data": {
      "image/png": "[encoded data removed]",
      "text/plain": [
       "<Figure size 432x288 with 1 Axes>"
      ]
     },
     "metadata": {
      "needs_background": "light"
     },
     "output_type": "display_data"
    },
    {
     "name": "stdout",
     "output_type": "stream",
     "text": [
      "Доверительный интервал: [83.9852 < σ ** 2 < 195.5416]\n"
     ]
    }
   ],
   "source": [
    "confidence_interval_sigma(sigma, k, n_obs)"
   ]
  },
  {
   "cell_type": "markdown",
   "metadata": {},
   "source": [
    "### 2.1.14. Пример. Проверка гипотезы о коэффициенте бета [у доски]"
   ]
  },
  {
   "cell_type": "markdown",
   "metadata": {},
   "source": [
    "Задача:\n",
    "- Проверить гипотезу: b_1 = 0, при α = 0.05"
   ]
  },
  {
   "cell_type": "markdown",
   "metadata": {},
   "source": [
    "Условия задачи:"
   ]
  },
  {
   "cell_type": "code",
   "execution_count": 12,
   "metadata": {},
   "outputs": [],
   "source": [
    "n_obs = 47\n",
    "b_ = np.array([59.8, 0.109, 0.115])\n",
    "var_b_ = np.array([[15.9, -0.257, -0.007], \n",
    "                   [-0.257, 0.00616, -0.00135], \n",
    "                   [-0.007, -0.00135, 0.00182]]).T\n",
    "b = 0"
   ]
  },
  {
   "cell_type": "markdown",
   "metadata": {},
   "source": [
    "Функция для рассчета:"
   ]
  },
  {
   "cell_type": "code",
   "execution_count": 149,
   "metadata": {},
   "outputs": [],
   "source": [
    "def check_H(b_, b, var_b, b_ind, n_obs, level=0.95, round_fact=4):\n",
    "    t = (b_[b_ind] - b) / np.sqrt(var_b[b_ind, b_ind])\n",
    "    \n",
    "    degr_free = n_obs - b_.shape[0]\n",
    "    t_dist = np.random.standard_t(degr_free, size=100000)\n",
    "    q = level + (1 - level) / 2\n",
    "    quantile = round(np.quantile(t_dist, q=q), round_fact)\n",
    "    \n",
    "    print(\"Распределение Стьюдента:\")\n",
    "    sns.distplot(t_dist)\n",
    "    plt.plot([quantile, quantile], [0, 0.4], color=\"r\")\n",
    "    plt.plot([-quantile, -quantile], [0, 0.4], color=\"r\")\n",
    "    plt.plot([t, t], [0, 0.4], color=\"b\")\n",
    "    plt.show(block=False)\n",
    "\n",
    "    if (t > -quantile) and (t < quantile):\n",
    "        print(\"\"\"Так как значение t-статистики (%s) попало в область ограниченную критическими значениями, то гипотеза принимается: \\n [%s < t < %s]\"\"\" % (round(t, round_fact), -quantile, quantile))\n",
    "    else:\n",
    "        print(\"\"\"Так как значение t-статистики (%s) не попало в область ограниченную критическими значениями, то гипотеза отвергается\\n\"\"\" % (round(t, round_fact)))\n",
    "    p_value_l = 1 - len(t_dist[t_dist > t])/len(t_dist)\n",
    "    p_value_r = len(t_dist[t_dist > t])/len(t_dist)\n",
    "    p_value = 2 * min(p_value_l, p_value_r)\n",
    "    print(\"p-value равно %s, то есть отвергая нулевую гипотезу, мы ошибемся с вероятностью %s процентов\" % (round(p_value, round_fact), round(p_value, 2) * 100))"
   ]
  },
  {
   "cell_type": "markdown",
   "metadata": {},
   "source": [
    "Рассчет:"
   ]
  },
  {
   "cell_type": "code",
   "execution_count": 150,
   "metadata": {},
   "outputs": [
    {
     "name": "stdout",
     "output_type": "stream",
     "text": [
      "Распределение Стьюдента:\n"
     ]
    },
    {
     "data": {
      "image/png": "[encoded data removed]",
      "text/plain": [
       "<Figure size 432x288 with 1 Axes>"
      ]
     },
     "metadata": {
      "needs_background": "light"
     },
     "output_type": "display_data"
    },
    {
     "name": "stdout",
     "output_type": "stream",
     "text": [
      "Так как значение t-статистики (1.3888) попало в область ограниченную критическими значениями, то гипотеза принимается: \n",
      " [-2.0238 < t < 2.0238]\n",
      "p-value равно 0.1722, то есть отвергая нулевую гипотезу, мы ошибемся с вероятностью 17.0 процентов\n"
     ]
    }
   ],
   "source": [
    "check_H(b_, 0, var_b_, 1, 47)"
   ]
  },
  {
   "cell_type": "markdown",
   "metadata": {},
   "source": [
    "### 2.1.17. Проверка гипотезы о связи коэффициентов. Заключение [+доска]"
   ]
  },
  {
   "cell_type": "markdown",
   "metadata": {},
   "source": [
    "Задача:\n",
    "- Проверить гипотезу: b_1 - b_2 = 0, при α = 0.05"
   ]
  },
  {
   "cell_type": "markdown",
   "metadata": {},
   "source": [
    "Условия задачи:"
   ]
  },
  {
   "cell_type": "code",
   "execution_count": 130,
   "metadata": {},
   "outputs": [],
   "source": [
    "n_obs = 47\n",
    "b_ = np.array([59.8, 0.109, 0.115])\n",
    "var_b_ = np.array([[15.9, -0.257, -0.007], \n",
    "                   [-0.257, 0.00616, -0.00135], \n",
    "                   [-0.007, -0.00135, 0.00182]]).T"
   ]
  },
  {
   "cell_type": "markdown",
   "metadata": {},
   "source": [
    "Функция для рассчета:"
   ]
  },
  {
   "cell_type": "code",
   "execution_count": 151,
   "metadata": {},
   "outputs": [],
   "source": [
    "def check_corr(b_, var_b, b_1_ind, b_2_ind, n_obs, b_diff=0, level=0.95, round_fact=4):\n",
    "    t = (b_[b_1_ind] - b_[b_2_ind] - b_diff) / np.sqrt(var_b[b_1_ind, b_1_ind] + var_b[b_2_ind, b_2_ind] + var_b[b_1_ind, b_2_ind])\n",
    "    \n",
    "    degr_free = n_obs - b_.shape[0]\n",
    "    t_dist = np.random.standard_t(degr_free, size=100000)\n",
    "    q = level + (1 - level) / 2\n",
    "    quantile = round(np.quantile(t_dist, q=q), round_fact)\n",
    "    \n",
    "    print(\"Распределение Стьюдента:\")\n",
    "    sns.distplot(t_dist)\n",
    "    plt.plot([quantile, quantile], [0, 0.4], color=\"r\")\n",
    "    plt.plot([-quantile, -quantile], [0, 0.4], color=\"r\")\n",
    "    plt.plot([t, t], [0, 0.4], color=\"b\")\n",
    "    plt.show(block=False)\n",
    "\n",
    "    if (t > -quantile) and (t < quantile):\n",
    "        print(\"\"\"Так как значение t-статистики (%s) попало в область ограниченную критическими значениями, то гипотеза принимается: \\n [%s < t < %s]\"\"\" % (round(t, round_fact), -quantile, quantile))\n",
    "    else:\n",
    "        print(\"\"\"Так как значение t-статистики (%s) не попало в область ограниченную критическими значениями, то гипотеза отвергается\\n\"\"\" % (round(t, round_fact)))\n",
    "    p_value_l = 1 - len(t_dist[t_dist > t])/len(t_dist)\n",
    "    p_value_r = len(t_dist[t_dist > t])/len(t_dist)\n",
    "    p_value = 2 * min(p_value_l, p_value_r)\n",
    "    print(\"p-value равно %s, то есть отвергая нулевую гипотезу, мы ошибемся с вероятностью %s процентов\" % (round(p_value, round_fact), round(p_value, 2) * 100))"
   ]
  },
  {
   "cell_type": "markdown",
   "metadata": {},
   "source": [
    "Рассчет:"
   ]
  },
  {
   "cell_type": "code",
   "execution_count": 152,
   "metadata": {},
   "outputs": [
    {
     "name": "stdout",
     "output_type": "stream",
     "text": [
      "Распределение Стьюдента:\n"
     ]
    },
    {
     "data": {
      "image/png": "[encoded data removed]",
      "text/plain": [
       "<Figure size 432x288 with 1 Axes>"
      ]
     },
     "metadata": {
      "needs_background": "light"
     },
     "output_type": "display_data"
    },
    {
     "name": "stdout",
     "output_type": "stream",
     "text": [
      "Так как значение t-статистики (-0.0737) попало в область ограниченную критическими значениями, то гипотеза принимается: \n",
      " [-2.0146 < t < 2.0146]\n",
      "p-value равно 0.9359, то есть отвергая нулевую гипотезу, мы ошибемся с вероятностью 94.0 процентов\n"
     ]
    }
   ],
   "source": [
    "check_corr(b_, var_b_, 1, 2, 47)"
   ]
  }
 ],
 "metadata": {
  "kernelspec": {
   "display_name": "Python 3",
   "language": "python",
   "name": "python3"
  },
  "language_info": {
   "codemirror_mode": {
    "name": "ipython",
    "version": 3
   },
   "file_extension": ".py",
   "mimetype": "text/x-python",
   "name": "python",
   "nbconvert_exporter": "python",
   "pygments_lexer": "ipython3",
   "version": "3.6.9"
  }
 },
 "nbformat": 4,
 "nbformat_minor": 4
}
